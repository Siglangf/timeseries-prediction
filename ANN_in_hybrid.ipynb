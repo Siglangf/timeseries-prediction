{
 "cells": [
  {
   "cell_type": "code",
   "execution_count": 125,
   "metadata": {},
   "outputs": [],
   "source": [
    "from sklearn.neural_network import MLPRegressor\n",
    "import numpy as np\n",
    "import pandas as pd\n",
    "import data_extraction\n",
    "import ARIMA\n",
    "from datetime import datetime\n",
    "import matplotlib.pyplot as plt"
   ]
  },
  {
   "cell_type": "code",
   "execution_count": 126,
   "metadata": {},
   "outputs": [],
   "source": [
    "def ANN_train(X_train, y_train, hidden_layers, alpha=1e-5, random_state=1):\n",
    "    '''\n",
    "    INPUT:\n",
    "    timeseries: TYPE: DataFrame. Contains column named 'residual'\n",
    "    q: TYPE: Integer. Decides how many historical values to consider\n",
    "    hidden_layers: TYPE: Tuple of integers. The number on the i'th position decides number of nodes in hidden layer i\n",
    "\n",
    "    OUTPUT:\n",
    "    Returns trained model: TYPE: MLPRegressor\n",
    "    '''\n",
    "    model = MLPRegressor(solver=\"lbfgs\", \n",
    "                         alpha=alpha, \n",
    "                         hidden_layer_sizes=hidden_layers, \n",
    "                         random_state=random_state, \n",
    "                         max_iter=20000,\n",
    "                         tol=1e-4) #default tolerance\n",
    "    model.fit(X_train, y_train)\n",
    "    return model"
   ]
  },
  {
   "cell_type": "code",
   "execution_count": 127,
   "metadata": {},
   "outputs": [],
   "source": [
    "past_vals = 400\n",
    "nRowsRead = None\n",
    "grid_number = 1\n",
    "\n",
    "df = pd.DataFrame(index = data_extraction.get_timeseries(\"train\", nRowsRead, 'load', grid_number).append(data_extraction.get_timeseries(\"test\", nRowsRead, 'load', grid_number)).index)\n",
    "df[\"residuals\"] = data_extraction.get_timeseries(\"train\", nRowsRead, 'load', grid_number).append(data_extraction.get_timeseries(\"test\", nRowsRead, 'load', grid_number))\n",
    "\n"
   ]
  },
  {
   "cell_type": "code",
   "execution_count": 128,
   "metadata": {},
   "outputs": [
    {
     "data": {
      "text/html": [
       "<div>\n",
       "<style scoped>\n",
       "    .dataframe tbody tr th:only-of-type {\n",
       "        vertical-align: middle;\n",
       "    }\n",
       "\n",
       "    .dataframe tbody tr th {\n",
       "        vertical-align: top;\n",
       "    }\n",
       "\n",
       "    .dataframe thead th {\n",
       "        text-align: right;\n",
       "    }\n",
       "</style>\n",
       "<table border=\"1\" class=\"dataframe\">\n",
       "  <thead>\n",
       "    <tr style=\"text-align: right;\">\n",
       "      <th></th>\n",
       "      <th>residuals</th>\n",
       "    </tr>\n",
       "  </thead>\n",
       "  <tbody>\n",
       "    <tr>\n",
       "      <th>2017-12-01 00:00:00</th>\n",
       "      <td>449.53200</td>\n",
       "    </tr>\n",
       "    <tr>\n",
       "      <th>2017-12-01 01:00:00</th>\n",
       "      <td>439.03600</td>\n",
       "    </tr>\n",
       "    <tr>\n",
       "      <th>2017-12-01 02:00:00</th>\n",
       "      <td>442.23700</td>\n",
       "    </tr>\n",
       "    <tr>\n",
       "      <th>2017-12-01 03:00:00</th>\n",
       "      <td>447.83600</td>\n",
       "    </tr>\n",
       "    <tr>\n",
       "      <th>2017-12-01 04:00:00</th>\n",
       "      <td>463.99500</td>\n",
       "    </tr>\n",
       "    <tr>\n",
       "      <th>...</th>\n",
       "      <td>...</td>\n",
       "    </tr>\n",
       "    <tr>\n",
       "      <th>2020-05-30 20:00:00</th>\n",
       "      <td>224.54790</td>\n",
       "    </tr>\n",
       "    <tr>\n",
       "      <th>2020-05-30 21:00:00</th>\n",
       "      <td>223.84220</td>\n",
       "    </tr>\n",
       "    <tr>\n",
       "      <th>2020-05-30 22:00:00</th>\n",
       "      <td>217.77730</td>\n",
       "    </tr>\n",
       "    <tr>\n",
       "      <th>2020-05-30 23:00:00</th>\n",
       "      <td>208.35270</td>\n",
       "    </tr>\n",
       "    <tr>\n",
       "      <th>2020-05-31 00:00:00</th>\n",
       "      <td>199.86566</td>\n",
       "    </tr>\n",
       "  </tbody>\n",
       "</table>\n",
       "<p>19325 rows × 1 columns</p>\n",
       "</div>"
      ],
      "text/plain": [
       "                     residuals\n",
       "2017-12-01 00:00:00  449.53200\n",
       "2017-12-01 01:00:00  439.03600\n",
       "2017-12-01 02:00:00  442.23700\n",
       "2017-12-01 03:00:00  447.83600\n",
       "2017-12-01 04:00:00  463.99500\n",
       "...                        ...\n",
       "2020-05-30 20:00:00  224.54790\n",
       "2020-05-30 21:00:00  223.84220\n",
       "2020-05-30 22:00:00  217.77730\n",
       "2020-05-30 23:00:00  208.35270\n",
       "2020-05-31 00:00:00  199.86566\n",
       "\n",
       "[19325 rows x 1 columns]"
      ]
     },
     "execution_count": 128,
     "metadata": {},
     "output_type": "execute_result"
    }
   ],
   "source": [
    "df"
   ]
  },
  {
   "cell_type": "code",
   "execution_count": 129,
   "metadata": {},
   "outputs": [],
   "source": [
    "def data_ANN_train(past_vals, df):\n",
    "    # input values\n",
    "    # past_vals is the number of past values of the residuals that the ANN will use\n",
    "    residuals = df[\"residuals\"]\n",
    "    load_series_train = data_extraction.get_timeseries(\"train\", nRowsRead, 'load', grid_number)\n",
    "    load_series_test = data_extraction.get_timeseries(\"train\", nRowsRead, 'load', grid_number)\n",
    "    \n",
    "    X = []\n",
    "    y = []\n",
    "    \n",
    "    for i in range(len(residuals.values) - len(load_series_test) - past_vals):\n",
    "        X_el = residuals[i:i+past_vals]\n",
    "        \n",
    "        t = datetime.strptime(residuals.index[i+past_vals], \"%Y-%m-%d %H:%M:%S\")\n",
    "        \n",
    "        X_el_additional = []\n",
    "        X_el_additional.append(t.hour)\n",
    "        X_el_additional.append(t.month)\n",
    "\n",
    "        # add the load of the predicted value\n",
    "        X_el_additional.append(load_series_train[i+past_vals])\n",
    "        \n",
    "        X_el_additional = pd.Series(X_el_additional, name = X_el.name)\n",
    "\n",
    "        df = pd.DataFrame(X_el.append(X_el_additional, ignore_index = True))\n",
    "        nd = df.values\n",
    "\n",
    "        nd_new = np.ndarray(shape=len(df.values))\n",
    "\n",
    "\n",
    "        for j in range(len(nd)):\n",
    "            nd_new[j] = nd[j,0]\n",
    "\n",
    "        X.append(nd_new)\n",
    "        y.append(residuals.iloc[i+past_vals])\n",
    "    \n",
    "    return X, y\n"
   ]
  },
  {
   "cell_type": "code",
   "execution_count": 130,
   "metadata": {},
   "outputs": [],
   "source": [
    "X, y = data_ANN_train(past_vals, df)\n",
    "\n"
   ]
  },
  {
   "cell_type": "code",
   "execution_count": 131,
   "metadata": {},
   "outputs": [],
   "source": [
    "model = ANN_train(X, y, (4))"
   ]
  },
  {
   "cell_type": "code",
   "execution_count": 104,
   "metadata": {},
   "outputs": [],
   "source": [
    "def data_ANN_test(past_vals, df):\n",
    "    residuals = df[\"residuals\"]\n",
    "    df[\"pred_residuals\"] = \"\"\n",
    "    load_series_test = data_extraction.get_timeseries(\"test\", nRowsRead, 'load', grid_number)\n",
    "    #print(len(residuals[len(load_series_test)-past_vals:len(load_series_test)]))\n",
    "    \n",
    "    X = []\n",
    "    \n",
    "    for i in range(len(load_series_test)):\n",
    "        if i%24 == 0:\n",
    "            X_el = residuals[len(load_series_test)+i-past_vals:len(load_series_test)+i]\n",
    "            #print(len(X_el))\n",
    "        \n",
    "        #if i == 0:\n",
    "        #    print(X_el)\n",
    "        \n",
    "        t = datetime.strptime(load_series_test.index[i], \"%Y-%m-%d %H:%M:%S\")\n",
    "\n",
    "        X_el_additional = []\n",
    "        X_el_additional.append(t.hour)\n",
    "        X_el_additional.append(t.month)\n",
    "\n",
    "        # add the load of the predicted value\n",
    "        X_el_additional.append(load_series_test[i])\n",
    "        \n",
    "        X_el_additional = pd.Series(X_el_additional, name = X_el.name)\n",
    "\n",
    "        df = pd.DataFrame(X_el.append(X_el_additional, ignore_index = True))\n",
    "        nd = df.values\n",
    "\n",
    "        nd_new = np.ndarray(shape=len(df.values))\n",
    "\n",
    "\n",
    "        for j in range(len(nd)):\n",
    "            nd_new[j] = nd[j,0]\n",
    "\n",
    "        \n",
    "        if i == 0:\n",
    "            print(len(nd_new))\n",
    "        \n",
    "        X.append(nd_new)\n",
    "        X_el = X_el[1:]\n",
    "        \n",
    "        #if i == 0:\n",
    "        #    print(len(X_el))\n",
    "    \n",
    "    \n",
    "    return X\n",
    "    "
   ]
  },
  {
   "cell_type": "code",
   "execution_count": 105,
   "metadata": {},
   "outputs": [
    {
     "name": "stdout",
     "output_type": "stream",
     "text": [
      "43\n"
     ]
    }
   ],
   "source": [
    "X_test = data_ANN_test(past_vals, df)"
   ]
  },
  {
   "cell_type": "code",
   "execution_count": 106,
   "metadata": {},
   "outputs": [
    {
     "name": "stdout",
     "output_type": "stream",
     "text": [
      "43\n",
      "4310\n"
     ]
    }
   ],
   "source": [
    "print(len(X_test[0]))\n",
    "print(len(data_extraction.get_timeseries(\"test\", nRowsRead, 'load', grid_number)))"
   ]
  },
  {
   "cell_type": "code",
   "execution_count": 113,
   "metadata": {},
   "outputs": [],
   "source": [
    "def ANN_pred(model, X_test):\n",
    "    X = X_test.copy()\n",
    "    y_test = []\n",
    "    for i in range(len(X)):\n",
    "        X_el = X[i]\n",
    "        X_losses = X_el[:-3]\n",
    "        \n",
    "        for j in range(i%24):\n",
    "            y_test_el = np.ndarray(shape=1)\n",
    "            v = y_test[- (i%24 - j)]\n",
    "            y_test_el[0] = v\n",
    "            X_losses = np.append(X_losses, y_test_el)\n",
    "\n",
    "        X[i] = np.append(X_losses, X_el[-3:])\n",
    "        \n",
    "        val = model.predict([X[i]])\n",
    "\n",
    "        y_test.append(val[0])\n",
    "    return y_test\n",
    "\n"
   ]
  },
  {
   "cell_type": "code",
   "execution_count": 114,
   "metadata": {},
   "outputs": [
    {
     "data": {
      "text/plain": [
       "4310"
      ]
     },
     "execution_count": 114,
     "metadata": {},
     "output_type": "execute_result"
    }
   ],
   "source": [
    "len(X_test)"
   ]
  },
  {
   "cell_type": "code",
   "execution_count": 115,
   "metadata": {},
   "outputs": [],
   "source": [
    "y_pred = ANN_pred(model, X_test)\n"
   ]
  },
  {
   "cell_type": "code",
   "execution_count": 116,
   "metadata": {},
   "outputs": [
    {
     "data": {
      "text/plain": [
       "4310"
      ]
     },
     "execution_count": 116,
     "metadata": {},
     "output_type": "execute_result"
    }
   ],
   "source": [
    "len(y_pred)"
   ]
  },
  {
   "cell_type": "code",
   "execution_count": 119,
   "metadata": {},
   "outputs": [],
   "source": [
    "loss_series_test = data_extraction.get_timeseries(\"test\", nRowsRead, 'load', grid_number)"
   ]
  },
  {
   "cell_type": "code",
   "execution_count": 120,
   "metadata": {},
   "outputs": [
    {
     "data": {
      "text/plain": [
       "4310"
      ]
     },
     "execution_count": 120,
     "metadata": {},
     "output_type": "execute_result"
    }
   ],
   "source": [
    "len(loss_series_test)"
   ]
  },
  {
   "cell_type": "code",
   "execution_count": 121,
   "metadata": {},
   "outputs": [],
   "source": [
    "df1 = pd.DataFrame(index=loss_series_test.index)"
   ]
  },
  {
   "cell_type": "code",
   "execution_count": 122,
   "metadata": {},
   "outputs": [],
   "source": [
    "df1[\"Pred\"] = y_pred\n",
    "df1[\"Actual\"] = loss_series_test.values\n",
    "df1[\"diff\"] = df[\"Actual\"]-df[\"Pred\"]"
   ]
  },
  {
   "cell_type": "code",
   "execution_count": 123,
   "metadata": {},
   "outputs": [
    {
     "data": {
      "text/plain": [
       "<matplotlib.axes._subplots.AxesSubplot at 0x7fe3b8f36a60>"
      ]
     },
     "execution_count": 123,
     "metadata": {},
     "output_type": "execute_result"
    },
    {
     "data": {
      "image/png": "[encoded data removed]",
      "text/plain": [
       "<Figure size 432x288 with 1 Axes>"
      ]
     },
     "metadata": {
      "needs_background": "light"
     },
     "output_type": "display_data"
    }
   ],
   "source": [
    "df1[\"diff\"].plot()"
   ]
  },
  {
   "cell_type": "code",
   "execution_count": null,
   "metadata": {},
   "outputs": [],
   "source": []
  }
 ],
 "metadata": {
  "kernelspec": {
   "display_name": "Python 3",
   "language": "python",
   "name": "python3"
  },
  "language_info": {
   "codemirror_mode": {
    "name": "ipython",
    "version": 3
   },
   "file_extension": ".py",
   "mimetype": "text/x-python",
   "name": "python",
   "nbconvert_exporter": "python",
   "pygments_lexer": "ipython3",
   "version": "3.8.3"
  }
 },
 "nbformat": 4,
 "nbformat_minor": 4
}
