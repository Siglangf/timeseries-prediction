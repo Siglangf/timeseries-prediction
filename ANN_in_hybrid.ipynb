{
 "cells": [
  {
   "cell_type": "code",
   "execution_count": 251,
   "metadata": {},
   "outputs": [],
   "source": [
    "from sklearn.neural_network import MLPRegressor\n",
    "import numpy as np\n",
    "import pandas as pd\n",
    "import data_extraction\n",
    "\n",
    "import ARIMA\n",
    "from datetime import datetime\n",
    "import matplotlib.pyplot as plt\n",
    "from tqdm import tqdm"
   ]
  },
  {
   "cell_type": "code",
   "execution_count": 252,
   "metadata": {},
   "outputs": [],
   "source": [
    "def ANN_train(X_train, y_train, hidden_layers, alpha=1e-5, random_state=1):\n",
    "    '''\n",
    "    INPUT:\n",
    "    timeseries: TYPE: DataFrame. Contains column named 'residual'\n",
    "    q: TYPE: Integer. Decides how many historical values to consider\n",
    "    hidden_layers: TYPE: Tuple of integers. The number on the i'th position decides number of nodes in hidden layer i\n",
    "\n",
    "    OUTPUT:\n",
    "    Returns trained model: TYPE: MLPRegressor\n",
    "    '''\n",
    "    model = MLPRegressor(solver=\"adam\", \n",
    "                         alpha=alpha, \n",
    "                         hidden_layer_sizes=hidden_layers, \n",
    "                         random_state=random_state, \n",
    "                         max_iter=20000,\n",
    "                         learning_rate = \"adaptive\",\n",
    "                         tol=1e-8) #default tolerance\n",
    "    model.fit(X_train, y_train)\n",
    "    return model"
   ]
  },
  {
   "cell_type": "code",
   "execution_count": 253,
   "metadata": {},
   "outputs": [],
   "source": [
    "past_weeks = 4\n",
    "hidden_layers = (3,3)\n",
    "nRowsRead = None\n",
    "grid_number = 1\n",
    "\n",
    "df = pd.read_pickle('ARIMA_forecast.pkl')\n",
    "\n",
    "def to_datetime(string):\n",
    "    return datetime.strptime(string, \"%Y-%m-%d %H:%M:%S\")\n",
    "\n",
    "\n",
    "def to_string(date):\n",
    "    return datetime.strftime(date, \"%Y-%m-%d %H:%M:%S\")\n"
   ]
  },
  {
   "cell_type": "code",
   "execution_count": 254,
   "metadata": {},
   "outputs": [
    {
     "data": {
      "text/plain": [
       "12902"
      ]
     },
     "execution_count": 254,
     "metadata": {},
     "output_type": "execute_result"
    }
   ],
   "source": [
    "df['residuals'].size"
   ]
  },
  {
   "cell_type": "code",
   "execution_count": 255,
   "metadata": {},
   "outputs": [],
   "source": [
    "def data_ANN(past_weeks, df):\n",
    "    # input values\n",
    "    # past_vals is the number of past values of the residuals that the ANN will use\n",
    "    residuals = df[\"residuals\"]\n",
    "\n",
    "    X = []\n",
    "    y = []\n",
    "    \n",
    "    for i in tqdm(range(len(residuals.values) - past_weeks*24*7)):\n",
    "        X_el = residuals[i:i+24*7*past_weeks:24*7]\n",
    "        X.append(X_el)\n",
    "        y.append([residuals.iloc[i+past_weeks*24*7]])\n",
    "    \n",
    "    return X, y\n"
   ]
  },
  {
   "cell_type": "code",
   "execution_count": 256,
   "metadata": {},
   "outputs": [
    {
     "name": "stderr",
     "output_type": "stream",
     "text": [
      "100%|██████████| 12230/12230 [00:01<00:00, 11341.88it/s]\n"
     ]
    }
   ],
   "source": [
    "X, y = data_ANN(past_weeks, df)"
   ]
  },
  {
   "cell_type": "code",
   "execution_count": 257,
   "metadata": {},
   "outputs": [],
   "source": [
    "train_size_percentage = 0.80\n",
    "\n",
    "train_size = int(len(X)*train_size_percentage)\n",
    "#print(len(data_extraction.get_timeseries(\"train\", nRowsRead, 'loss', grid_number))/(24*7))\n",
    "\n",
    "X_train = X[:train_size]\n",
    "y_train = y[:train_size]\n",
    "\n",
    "X_test = X[train_size:]\n",
    "y_test = y[train_size:]"
   ]
  },
  {
   "cell_type": "code",
   "execution_count": 258,
   "metadata": {},
   "outputs": [],
   "source": [
    "model = ANN_train(X_train, y_train, hidden_layers)"
   ]
  },
  {
   "cell_type": "code",
   "execution_count": 259,
   "metadata": {},
   "outputs": [],
   "source": [
    "def ANN_pred(model, X_test,X,y):\n",
    "    X_test = X_test.copy()\n",
    "    y_test = []\n",
    "    for i in tqdm(range(len(X_test))):\n",
    "        X_test_el = X_test[i].values\n",
    "        val = model.predict(X_test_el.reshape(1,-1))\n",
    "        y_test.append(val[0])\n",
    "        if i%23==0 and i < len(X_test)-24:\n",
    "            model.partial_fit(X[train_size+i:train_size+i+24], y[train_size+i:train_size+i+24])\n",
    "    return y_test\n",
    "\n"
   ]
  },
  {
   "cell_type": "code",
   "execution_count": 260,
   "metadata": {},
   "outputs": [
    {
     "name": "stderr",
     "output_type": "stream",
     "text": [
      "100%|██████████| 2446/2446 [00:00<00:00, 3437.88it/s]\n"
     ]
    }
   ],
   "source": [
    "y_pred = ANN_pred(model, X_test,X,y)"
   ]
  },
  {
   "cell_type": "code",
   "execution_count": 261,
   "metadata": {},
   "outputs": [],
   "source": [
    "temp = df.copy()\n",
    "temp['pred_residuals'] = np.nan\n",
    "temp['pred_residuals'].iloc[-len(y_pred):] = y_pred\n",
    "#(temp['residuals']-temp['pred_residuals']).dropna().hist()"
   ]
  },
  {
   "cell_type": "code",
   "execution_count": 262,
   "metadata": {},
   "outputs": [
    {
     "data": {
      "text/plain": [
       "<AxesSubplot:>"
      ]
     },
     "execution_count": 262,
     "metadata": {},
     "output_type": "execute_result"
    },
    {
     "data": {
      "image/png": "[encoded data removed]",
      "text/plain": [
       "<Figure size 432x288 with 1 Axes>"
      ]
     },
     "metadata": {
      "needs_background": "light"
     },
     "output_type": "display_data"
    }
   ],
   "source": [
    "(abs(temp['residuals']-temp[\"pred_residuals\"])).plot()"
   ]
  },
  {
   "cell_type": "code",
   "execution_count": 263,
   "metadata": {},
   "outputs": [],
   "source": [
    "df_from_ANN = pd.read_pickle('ANN_alone_forecast.pkl')"
   ]
  },
  {
   "cell_type": "code",
   "execution_count": 264,
   "metadata": {},
   "outputs": [
    {
     "data": {
      "text/html": [
       "<div>\n",
       "<style scoped>\n",
       "    .dataframe tbody tr th:only-of-type {\n",
       "        vertical-align: middle;\n",
       "    }\n",
       "\n",
       "    .dataframe tbody tr th {\n",
       "        vertical-align: top;\n",
       "    }\n",
       "\n",
       "    .dataframe thead th {\n",
       "        text-align: right;\n",
       "    }\n",
       "</style>\n",
       "<table border=\"1\" class=\"dataframe\">\n",
       "  <thead>\n",
       "    <tr style=\"text-align: right;\">\n",
       "      <th></th>\n",
       "      <th>grid1-loss</th>\n",
       "      <th>pred</th>\n",
       "      <th>diff</th>\n",
       "      <th>ann_sum_error</th>\n",
       "      <th>ann_cumsum</th>\n",
       "    </tr>\n",
       "  </thead>\n",
       "  <tbody>\n",
       "    <tr>\n",
       "      <th>2019-12-01 00:00:00</th>\n",
       "      <td>21.55210</td>\n",
       "      <td>22.686309</td>\n",
       "      <td>-1.134209</td>\n",
       "      <td>1.134209</td>\n",
       "      <td>1.134209</td>\n",
       "    </tr>\n",
       "    <tr>\n",
       "      <th>2019-12-01 01:00:00</th>\n",
       "      <td>20.71190</td>\n",
       "      <td>21.595508</td>\n",
       "      <td>-0.883608</td>\n",
       "      <td>0.883608</td>\n",
       "      <td>2.017817</td>\n",
       "    </tr>\n",
       "    <tr>\n",
       "      <th>2019-12-01 02:00:00</th>\n",
       "      <td>20.27340</td>\n",
       "      <td>20.773316</td>\n",
       "      <td>-0.499916</td>\n",
       "      <td>0.499916</td>\n",
       "      <td>2.517733</td>\n",
       "    </tr>\n",
       "    <tr>\n",
       "      <th>2019-12-01 03:00:00</th>\n",
       "      <td>20.25370</td>\n",
       "      <td>20.443139</td>\n",
       "      <td>-0.189439</td>\n",
       "      <td>0.189439</td>\n",
       "      <td>2.707172</td>\n",
       "    </tr>\n",
       "    <tr>\n",
       "      <th>2019-12-01 04:00:00</th>\n",
       "      <td>20.40550</td>\n",
       "      <td>20.209076</td>\n",
       "      <td>0.196424</td>\n",
       "      <td>0.196424</td>\n",
       "      <td>2.903596</td>\n",
       "    </tr>\n",
       "    <tr>\n",
       "      <th>...</th>\n",
       "      <td>...</td>\n",
       "      <td>...</td>\n",
       "      <td>...</td>\n",
       "      <td>...</td>\n",
       "      <td>...</td>\n",
       "    </tr>\n",
       "    <tr>\n",
       "      <th>2020-05-30 19:00:00</th>\n",
       "      <td>8.55980</td>\n",
       "      <td>13.035968</td>\n",
       "      <td>-4.476168</td>\n",
       "      <td>4.476168</td>\n",
       "      <td>22534.680531</td>\n",
       "    </tr>\n",
       "    <tr>\n",
       "      <th>2020-05-30 20:00:00</th>\n",
       "      <td>6.95209</td>\n",
       "      <td>12.870605</td>\n",
       "      <td>-5.918515</td>\n",
       "      <td>5.918515</td>\n",
       "      <td>22540.599047</td>\n",
       "    </tr>\n",
       "    <tr>\n",
       "      <th>2020-05-30 21:00:00</th>\n",
       "      <td>8.11558</td>\n",
       "      <td>12.926121</td>\n",
       "      <td>-4.810541</td>\n",
       "      <td>4.810541</td>\n",
       "      <td>22545.409588</td>\n",
       "    </tr>\n",
       "    <tr>\n",
       "      <th>2020-05-30 23:00:00</th>\n",
       "      <td>7.26431</td>\n",
       "      <td>12.561953</td>\n",
       "      <td>-5.297643</td>\n",
       "      <td>5.297643</td>\n",
       "      <td>22550.707231</td>\n",
       "    </tr>\n",
       "    <tr>\n",
       "      <th>2020-05-31 00:00:00</th>\n",
       "      <td>6.78796</td>\n",
       "      <td>12.481584</td>\n",
       "      <td>-5.693624</td>\n",
       "      <td>5.693624</td>\n",
       "      <td>22556.400856</td>\n",
       "    </tr>\n",
       "  </tbody>\n",
       "</table>\n",
       "<p>4335 rows × 5 columns</p>\n",
       "</div>"
      ],
      "text/plain": [
       "                     grid1-loss       pred      diff  ann_sum_error  \\\n",
       "2019-12-01 00:00:00    21.55210  22.686309 -1.134209       1.134209   \n",
       "2019-12-01 01:00:00    20.71190  21.595508 -0.883608       0.883608   \n",
       "2019-12-01 02:00:00    20.27340  20.773316 -0.499916       0.499916   \n",
       "2019-12-01 03:00:00    20.25370  20.443139 -0.189439       0.189439   \n",
       "2019-12-01 04:00:00    20.40550  20.209076  0.196424       0.196424   \n",
       "...                         ...        ...       ...            ...   \n",
       "2020-05-30 19:00:00     8.55980  13.035968 -4.476168       4.476168   \n",
       "2020-05-30 20:00:00     6.95209  12.870605 -5.918515       5.918515   \n",
       "2020-05-30 21:00:00     8.11558  12.926121 -4.810541       4.810541   \n",
       "2020-05-30 23:00:00     7.26431  12.561953 -5.297643       5.297643   \n",
       "2020-05-31 00:00:00     6.78796  12.481584 -5.693624       5.693624   \n",
       "\n",
       "                       ann_cumsum  \n",
       "2019-12-01 00:00:00      1.134209  \n",
       "2019-12-01 01:00:00      2.017817  \n",
       "2019-12-01 02:00:00      2.517733  \n",
       "2019-12-01 03:00:00      2.707172  \n",
       "2019-12-01 04:00:00      2.903596  \n",
       "...                           ...  \n",
       "2020-05-30 19:00:00  22534.680531  \n",
       "2020-05-30 20:00:00  22540.599047  \n",
       "2020-05-30 21:00:00  22545.409588  \n",
       "2020-05-30 23:00:00  22550.707231  \n",
       "2020-05-31 00:00:00  22556.400856  \n",
       "\n",
       "[4335 rows x 5 columns]"
      ]
     },
     "execution_count": 264,
     "metadata": {},
     "output_type": "execute_result"
    }
   ],
   "source": [
    "df_from_ANN"
   ]
  },
  {
   "cell_type": "code",
   "execution_count": 265,
   "metadata": {},
   "outputs": [],
   "source": [
    "temp = temp.dropna()\n",
    "\n",
    "temp['Hybrid'] = temp['ARIMA']+temp['pred_residuals']\n",
    "temp['ANN'] = df_from_ANN['pred']\n",
    "\n",
    "temp['arima_sum_error'] = abs(temp['grid-loss'] - temp['ARIMA'])\n",
    "temp['hybrid_sum_error'] = abs(temp['grid-loss'] - temp['Hybrid'])\n",
    "temp['ann_sum_error'] = df_from_ANN['ann_sum_error']\n",
    "\n",
    "temp['arima_cumsum'] = temp['arima_sum_error'].cumsum()\n",
    "temp['hybrid_cumsum'] = temp['hybrid_sum_error'].cumsum()\n",
    "temp['error_in_res'] = (temp['residuals']-temp['pred_residuals'])\n",
    "temp['ann_cumsum'] = df_from_ANN['ann_sum_error'].iloc[-train_size:].cumsum()"
   ]
  },
  {
   "cell_type": "code",
   "execution_count": 266,
   "metadata": {},
   "outputs": [],
   "source": [
    "temp['grid-loss'].min()\n",
    "temp.index = [to_datetime(string) for string in temp.index]"
   ]
  },
  {
   "cell_type": "code",
   "execution_count": 267,
   "metadata": {},
   "outputs": [
    {
     "data": {
      "text/plain": [
       "<AxesSubplot:>"
      ]
     },
     "execution_count": 267,
     "metadata": {},
     "output_type": "execute_result"
    },
    {
     "data": {
      "image/png": "[encoded data removed]",
      "text/plain": [
       "<Figure size 432x288 with 1 Axes>"
      ]
     },
     "metadata": {
      "needs_background": "light"
     },
     "output_type": "display_data"
    }
   ],
   "source": [
    "temp[['arima_cumsum','hybrid_cumsum']].iloc[:].plot()\n"
   ]
  },
  {
   "cell_type": "code",
   "execution_count": 268,
   "metadata": {},
   "outputs": [
    {
     "data": {
      "text/plain": [
       "0.03679666037726442"
      ]
     },
     "execution_count": 268,
     "metadata": {},
     "output_type": "execute_result"
    }
   ],
   "source": [
    "(temp['arima_cumsum'].iloc[-1]-temp['hybrid_cumsum'].iloc[-1])/temp['arima_cumsum'].iloc[-1]"
   ]
  },
  {
   "cell_type": "code",
   "execution_count": 269,
   "metadata": {},
   "outputs": [],
   "source": [
    "diff = temp['grid-loss']-temp['Hybrid']\n",
    "mse_hybrid = (diff**2).mean()"
   ]
  },
  {
   "cell_type": "code",
   "execution_count": 270,
   "metadata": {},
   "outputs": [],
   "source": [
    "diff = temp['grid-loss']-temp['ARIMA']\n",
    "mse_arima = (diff**2).mean()\n",
    "\n"
   ]
  },
  {
   "cell_type": "code",
   "execution_count": 271,
   "metadata": {},
   "outputs": [
    {
     "data": {
      "text/plain": [
       "0.06239177523213835"
      ]
     },
     "execution_count": 271,
     "metadata": {},
     "output_type": "execute_result"
    }
   ],
   "source": [
    "(mse_arima-mse_hybrid)/mse_arima"
   ]
  },
  {
   "cell_type": "code",
   "execution_count": 272,
   "metadata": {},
   "outputs": [
    {
     "data": {
      "text/plain": [
       "2020-02-19 02:00:00       0.028162\n",
       "2020-02-19 03:00:00       0.125621\n",
       "2020-02-19 04:00:00       1.978883\n",
       "2020-02-19 05:00:00       5.315533\n",
       "2020-02-19 06:00:00       8.201148\n",
       "                          ...     \n",
       "2020-05-30 19:00:00    9229.181923\n",
       "2020-05-30 20:00:00    9229.500543\n",
       "2020-05-30 21:00:00    9230.321258\n",
       "2020-05-30 23:00:00    9234.893317\n",
       "2020-05-31 00:00:00    9236.665187\n",
       "Name: error_in_res, Length: 2446, dtype: float64"
      ]
     },
     "execution_count": 272,
     "metadata": {},
     "output_type": "execute_result"
    }
   ],
   "source": [
    "abs(temp['error_in_res']).cumsum()"
   ]
  },
  {
   "cell_type": "code",
   "execution_count": null,
   "metadata": {},
   "outputs": [],
   "source": []
  },
  {
   "cell_type": "code",
   "execution_count": 273,
   "metadata": {},
   "outputs": [
    {
     "data": {
      "text/plain": [
       "<AxesSubplot:>"
      ]
     },
     "execution_count": 273,
     "metadata": {},
     "output_type": "execute_result"
    },
    {
     "data": {
      "image/png": "[encoded data removed]",
      "text/plain": [
       "<Figure size 432x288 with 1 Axes>"
      ]
     },
     "metadata": {
      "needs_background": "light"
     },
     "output_type": "display_data"
    }
   ],
   "source": [
    "temp[['pred_residuals','residuals']].iloc[50:100].plot()"
   ]
  },
  {
   "cell_type": "code",
   "execution_count": 274,
   "metadata": {},
   "outputs": [
    {
     "data": {
      "text/plain": [
       "<AxesSubplot:>"
      ]
     },
     "execution_count": 274,
     "metadata": {},
     "output_type": "execute_result"
    },
    {
     "data": {
      "image/png": "[encoded data removed]",
      "text/plain": [
       "<Figure size 432x288 with 1 Axes>"
      ]
     },
     "metadata": {
      "needs_background": "light"
     },
     "output_type": "display_data"
    }
   ],
   "source": [
    "temp[['grid-loss','ARIMA', 'Hybrid', 'ANN']].iloc[2400:2424].plot()"
   ]
  },
  {
   "cell_type": "code",
   "execution_count": 275,
   "metadata": {},
   "outputs": [],
   "source": [
    "mse = sum([temp['grid-loss']-temp['Hybrid']])"
   ]
  },
  {
   "cell_type": "code",
   "execution_count": 276,
   "metadata": {},
   "outputs": [],
   "source": [
    "temp[['Hybrid', 'pred_residuals']].to_pickle('ANN_in_hybrid_forecast.pkl')"
   ]
  },
  {
   "cell_type": "code",
   "execution_count": 277,
   "metadata": {},
   "outputs": [
    {
     "data": {
      "text/html": [
       "<div>\n",
       "<style scoped>\n",
       "    .dataframe tbody tr th:only-of-type {\n",
       "        vertical-align: middle;\n",
       "    }\n",
       "\n",
       "    .dataframe tbody tr th {\n",
       "        vertical-align: top;\n",
       "    }\n",
       "\n",
       "    .dataframe thead th {\n",
       "        text-align: right;\n",
       "    }\n",
       "</style>\n",
       "<table border=\"1\" class=\"dataframe\">\n",
       "  <thead>\n",
       "    <tr style=\"text-align: right;\">\n",
       "      <th></th>\n",
       "      <th>grid-loss</th>\n",
       "      <th>ARIMA</th>\n",
       "      <th>residuals</th>\n",
       "      <th>pred_residuals</th>\n",
       "      <th>Hybrid</th>\n",
       "      <th>ANN</th>\n",
       "      <th>arima_sum_error</th>\n",
       "      <th>hybrid_sum_error</th>\n",
       "      <th>ann_sum_error</th>\n",
       "      <th>arima_cumsum</th>\n",
       "      <th>hybrid_cumsum</th>\n",
       "      <th>error_in_res</th>\n",
       "      <th>ann_cumsum</th>\n",
       "    </tr>\n",
       "  </thead>\n",
       "  <tbody>\n",
       "    <tr>\n",
       "      <th>2020-02-19 02:00:00</th>\n",
       "      <td>16.84450</td>\n",
       "      <td>16.761747</td>\n",
       "      <td>0.082753</td>\n",
       "      <td>0.054592</td>\n",
       "      <td>16.816338</td>\n",
       "      <td>29.209692</td>\n",
       "      <td>0.082753</td>\n",
       "      <td>0.028162</td>\n",
       "      <td>12.365192</td>\n",
       "      <td>0.082753</td>\n",
       "      <td>0.028162</td>\n",
       "      <td>0.028162</td>\n",
       "      <td>10875.806197</td>\n",
       "    </tr>\n",
       "    <tr>\n",
       "      <th>2020-02-19 03:00:00</th>\n",
       "      <td>16.90030</td>\n",
       "      <td>16.942131</td>\n",
       "      <td>-0.041831</td>\n",
       "      <td>0.055629</td>\n",
       "      <td>16.997759</td>\n",
       "      <td>29.503707</td>\n",
       "      <td>0.041831</td>\n",
       "      <td>0.097459</td>\n",
       "      <td>12.603407</td>\n",
       "      <td>0.124584</td>\n",
       "      <td>0.125621</td>\n",
       "      <td>-0.097459</td>\n",
       "      <td>10888.409604</td>\n",
       "    </tr>\n",
       "    <tr>\n",
       "      <th>2020-02-19 04:00:00</th>\n",
       "      <td>18.13120</td>\n",
       "      <td>18.627957</td>\n",
       "      <td>-0.496757</td>\n",
       "      <td>-2.350020</td>\n",
       "      <td>16.277938</td>\n",
       "      <td>29.295074</td>\n",
       "      <td>0.496757</td>\n",
       "      <td>1.853262</td>\n",
       "      <td>11.163874</td>\n",
       "      <td>0.621341</td>\n",
       "      <td>1.978883</td>\n",
       "      <td>1.853262</td>\n",
       "      <td>10899.573478</td>\n",
       "    </tr>\n",
       "    <tr>\n",
       "      <th>2020-02-19 05:00:00</th>\n",
       "      <td>22.22810</td>\n",
       "      <td>21.275257</td>\n",
       "      <td>0.952843</td>\n",
       "      <td>-2.383807</td>\n",
       "      <td>18.891450</td>\n",
       "      <td>28.609907</td>\n",
       "      <td>0.952843</td>\n",
       "      <td>3.336650</td>\n",
       "      <td>6.381807</td>\n",
       "      <td>1.574184</td>\n",
       "      <td>5.315533</td>\n",
       "      <td>3.336650</td>\n",
       "      <td>10905.955284</td>\n",
       "    </tr>\n",
       "    <tr>\n",
       "      <th>2020-02-19 06:00:00</th>\n",
       "      <td>27.60820</td>\n",
       "      <td>24.997764</td>\n",
       "      <td>2.610436</td>\n",
       "      <td>-0.275179</td>\n",
       "      <td>24.722585</td>\n",
       "      <td>27.528905</td>\n",
       "      <td>2.610436</td>\n",
       "      <td>2.885615</td>\n",
       "      <td>0.079295</td>\n",
       "      <td>4.184620</td>\n",
       "      <td>8.201148</td>\n",
       "      <td>2.885615</td>\n",
       "      <td>10906.034580</td>\n",
       "    </tr>\n",
       "    <tr>\n",
       "      <th>...</th>\n",
       "      <td>...</td>\n",
       "      <td>...</td>\n",
       "      <td>...</td>\n",
       "      <td>...</td>\n",
       "      <td>...</td>\n",
       "      <td>...</td>\n",
       "      <td>...</td>\n",
       "      <td>...</td>\n",
       "      <td>...</td>\n",
       "      <td>...</td>\n",
       "      <td>...</td>\n",
       "      <td>...</td>\n",
       "      <td>...</td>\n",
       "    </tr>\n",
       "    <tr>\n",
       "      <th>2020-05-30 19:00:00</th>\n",
       "      <td>8.55980</td>\n",
       "      <td>7.129942</td>\n",
       "      <td>1.429858</td>\n",
       "      <td>-0.780193</td>\n",
       "      <td>6.349748</td>\n",
       "      <td>13.035968</td>\n",
       "      <td>1.429858</td>\n",
       "      <td>2.210052</td>\n",
       "      <td>4.476168</td>\n",
       "      <td>9582.394314</td>\n",
       "      <td>9229.181923</td>\n",
       "      <td>2.210052</td>\n",
       "      <td>22534.680531</td>\n",
       "    </tr>\n",
       "    <tr>\n",
       "      <th>2020-05-30 20:00:00</th>\n",
       "      <td>6.95209</td>\n",
       "      <td>6.751133</td>\n",
       "      <td>0.200957</td>\n",
       "      <td>-0.117663</td>\n",
       "      <td>6.633470</td>\n",
       "      <td>12.870605</td>\n",
       "      <td>0.200957</td>\n",
       "      <td>0.318620</td>\n",
       "      <td>5.918515</td>\n",
       "      <td>9582.595271</td>\n",
       "      <td>9229.500543</td>\n",
       "      <td>0.318620</td>\n",
       "      <td>22540.599047</td>\n",
       "    </tr>\n",
       "    <tr>\n",
       "      <th>2020-05-30 21:00:00</th>\n",
       "      <td>8.11558</td>\n",
       "      <td>8.986810</td>\n",
       "      <td>-0.871230</td>\n",
       "      <td>-1.691944</td>\n",
       "      <td>7.294865</td>\n",
       "      <td>12.926121</td>\n",
       "      <td>0.871230</td>\n",
       "      <td>0.820715</td>\n",
       "      <td>4.810541</td>\n",
       "      <td>9583.466500</td>\n",
       "      <td>9230.321258</td>\n",
       "      <td>0.820715</td>\n",
       "      <td>22545.409588</td>\n",
       "    </tr>\n",
       "    <tr>\n",
       "      <th>2020-05-30 23:00:00</th>\n",
       "      <td>7.26431</td>\n",
       "      <td>11.185511</td>\n",
       "      <td>-3.921201</td>\n",
       "      <td>0.650858</td>\n",
       "      <td>11.836369</td>\n",
       "      <td>12.561953</td>\n",
       "      <td>3.921201</td>\n",
       "      <td>4.572059</td>\n",
       "      <td>5.297643</td>\n",
       "      <td>9587.387701</td>\n",
       "      <td>9234.893317</td>\n",
       "      <td>-4.572059</td>\n",
       "      <td>22550.707231</td>\n",
       "    </tr>\n",
       "    <tr>\n",
       "      <th>2020-05-31 00:00:00</th>\n",
       "      <td>6.78796</td>\n",
       "      <td>8.928043</td>\n",
       "      <td>-2.140083</td>\n",
       "      <td>-0.368212</td>\n",
       "      <td>8.559830</td>\n",
       "      <td>12.481584</td>\n",
       "      <td>2.140083</td>\n",
       "      <td>1.771870</td>\n",
       "      <td>5.693624</td>\n",
       "      <td>9589.527784</td>\n",
       "      <td>9236.665187</td>\n",
       "      <td>-1.771870</td>\n",
       "      <td>22556.400856</td>\n",
       "    </tr>\n",
       "  </tbody>\n",
       "</table>\n",
       "<p>2446 rows × 13 columns</p>\n",
       "</div>"
      ],
      "text/plain": [
       "                     grid-loss      ARIMA  residuals  pred_residuals  \\\n",
       "2020-02-19 02:00:00   16.84450  16.761747   0.082753        0.054592   \n",
       "2020-02-19 03:00:00   16.90030  16.942131  -0.041831        0.055629   \n",
       "2020-02-19 04:00:00   18.13120  18.627957  -0.496757       -2.350020   \n",
       "2020-02-19 05:00:00   22.22810  21.275257   0.952843       -2.383807   \n",
       "2020-02-19 06:00:00   27.60820  24.997764   2.610436       -0.275179   \n",
       "...                        ...        ...        ...             ...   \n",
       "2020-05-30 19:00:00    8.55980   7.129942   1.429858       -0.780193   \n",
       "2020-05-30 20:00:00    6.95209   6.751133   0.200957       -0.117663   \n",
       "2020-05-30 21:00:00    8.11558   8.986810  -0.871230       -1.691944   \n",
       "2020-05-30 23:00:00    7.26431  11.185511  -3.921201        0.650858   \n",
       "2020-05-31 00:00:00    6.78796   8.928043  -2.140083       -0.368212   \n",
       "\n",
       "                        Hybrid        ANN  arima_sum_error  hybrid_sum_error  \\\n",
       "2020-02-19 02:00:00  16.816338  29.209692         0.082753          0.028162   \n",
       "2020-02-19 03:00:00  16.997759  29.503707         0.041831          0.097459   \n",
       "2020-02-19 04:00:00  16.277938  29.295074         0.496757          1.853262   \n",
       "2020-02-19 05:00:00  18.891450  28.609907         0.952843          3.336650   \n",
       "2020-02-19 06:00:00  24.722585  27.528905         2.610436          2.885615   \n",
       "...                        ...        ...              ...               ...   \n",
       "2020-05-30 19:00:00   6.349748  13.035968         1.429858          2.210052   \n",
       "2020-05-30 20:00:00   6.633470  12.870605         0.200957          0.318620   \n",
       "2020-05-30 21:00:00   7.294865  12.926121         0.871230          0.820715   \n",
       "2020-05-30 23:00:00  11.836369  12.561953         3.921201          4.572059   \n",
       "2020-05-31 00:00:00   8.559830  12.481584         2.140083          1.771870   \n",
       "\n",
       "                     ann_sum_error  arima_cumsum  hybrid_cumsum  error_in_res  \\\n",
       "2020-02-19 02:00:00      12.365192      0.082753       0.028162      0.028162   \n",
       "2020-02-19 03:00:00      12.603407      0.124584       0.125621     -0.097459   \n",
       "2020-02-19 04:00:00      11.163874      0.621341       1.978883      1.853262   \n",
       "2020-02-19 05:00:00       6.381807      1.574184       5.315533      3.336650   \n",
       "2020-02-19 06:00:00       0.079295      4.184620       8.201148      2.885615   \n",
       "...                            ...           ...            ...           ...   \n",
       "2020-05-30 19:00:00       4.476168   9582.394314    9229.181923      2.210052   \n",
       "2020-05-30 20:00:00       5.918515   9582.595271    9229.500543      0.318620   \n",
       "2020-05-30 21:00:00       4.810541   9583.466500    9230.321258      0.820715   \n",
       "2020-05-30 23:00:00       5.297643   9587.387701    9234.893317     -4.572059   \n",
       "2020-05-31 00:00:00       5.693624   9589.527784    9236.665187     -1.771870   \n",
       "\n",
       "                       ann_cumsum  \n",
       "2020-02-19 02:00:00  10875.806197  \n",
       "2020-02-19 03:00:00  10888.409604  \n",
       "2020-02-19 04:00:00  10899.573478  \n",
       "2020-02-19 05:00:00  10905.955284  \n",
       "2020-02-19 06:00:00  10906.034580  \n",
       "...                           ...  \n",
       "2020-05-30 19:00:00  22534.680531  \n",
       "2020-05-30 20:00:00  22540.599047  \n",
       "2020-05-30 21:00:00  22545.409588  \n",
       "2020-05-30 23:00:00  22550.707231  \n",
       "2020-05-31 00:00:00  22556.400856  \n",
       "\n",
       "[2446 rows x 13 columns]"
      ]
     },
     "execution_count": 277,
     "metadata": {},
     "output_type": "execute_result"
    }
   ],
   "source": [
    "temp"
   ]
  },
  {
   "cell_type": "code",
   "execution_count": null,
   "metadata": {},
   "outputs": [],
   "source": []
  },
  {
   "cell_type": "code",
   "execution_count": null,
   "metadata": {},
   "outputs": [],
   "source": []
  },
  {
   "cell_type": "code",
   "execution_count": null,
   "metadata": {},
   "outputs": [],
   "source": []
  }
 ],
 "metadata": {
  "kernelspec": {
   "display_name": "Python 3",
   "language": "python",
   "name": "python3"
  },
  "language_info": {
   "codemirror_mode": {
    "name": "ipython",
    "version": 3
   },
   "file_extension": ".py",
   "mimetype": "text/x-python",
   "name": "python",
   "nbconvert_exporter": "python",
   "pygments_lexer": "ipython3",
   "version": "3.8.5"
  }
 },
 "nbformat": 4,
 "nbformat_minor": 4
}
