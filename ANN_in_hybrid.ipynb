{
 "cells": [
  {
   "cell_type": "code",
   "execution_count": 214,
   "metadata": {},
   "outputs": [],
   "source": [
    "from sklearn.neural_network import MLPRegressor\n",
    "import numpy as np\n",
    "import pandas as pd\n",
    "import data_extraction\n",
    "\n",
    "import ARIMA\n",
    "from datetime import datetime\n",
    "import matplotlib.pyplot as plt\n",
    "from tqdm import tqdm"
   ]
  },
  {
   "cell_type": "code",
   "execution_count": 215,
   "metadata": {},
   "outputs": [],
   "source": [
    "def ANN_train(X_train, y_train, hidden_layers, alpha=1e-5, random_state=1):\n",
    "    '''\n",
    "    INPUT:\n",
    "    timeseries: TYPE: DataFrame. Contains column named 'residual'\n",
    "    q: TYPE: Integer. Decides how many historical values to consider\n",
    "    hidden_layers: TYPE: Tuple of integers. The number on the i'th position decides number of nodes in hidden layer i\n",
    "\n",
    "    OUTPUT:\n",
    "    Returns trained model: TYPE: MLPRegressor\n",
    "    '''\n",
    "    model = MLPRegressor(solver=\"adam\", \n",
    "                         alpha=alpha, \n",
    "                         hidden_layer_sizes=hidden_layers, \n",
    "                         random_state=random_state, \n",
    "                         max_iter=20000,\n",
    "                         #learning_rate = \"adaptive\",\n",
    "                         tol=1e-20) #default tolerance\n",
    "    model.fit(X_train, y_train)\n",
    "    return model"
   ]
  },
  {
   "cell_type": "code",
   "execution_count": 216,
   "metadata": {},
   "outputs": [],
   "source": [
    "past_weeks = 4\n",
    "hidden_layers = (3,3)\n",
    "nRowsRead = None\n",
    "grid_number = 1\n",
    "\n",
    "df = pd.read_pickle('forecast1.pkl')\n",
    "\n",
    "def to_datetime(string):\n",
    "    return datetime.strptime(string, \"%Y-%m-%d %H:%M:%S\")\n",
    "\n",
    "\n",
    "def to_string(date):\n",
    "    return datetime.strftime(date, \"%Y-%m-%d %H:%M:%S\")\n"
   ]
  },
  {
   "cell_type": "code",
   "execution_count": 217,
   "metadata": {},
   "outputs": [
    {
     "data": {
      "text/plain": [
       "12902"
      ]
     },
     "execution_count": 217,
     "metadata": {},
     "output_type": "execute_result"
    }
   ],
   "source": [
    "df['residuals'].size"
   ]
  },
  {
   "cell_type": "code",
   "execution_count": 218,
   "metadata": {},
   "outputs": [],
   "source": [
    "def data_ANN(past_weeks, df):\n",
    "    # input values\n",
    "    # past_vals is the number of past values of the residuals that the ANN will use\n",
    "    residuals = df[\"residuals\"]\n",
    "\n",
    "    X = []\n",
    "    y = []\n",
    "    \n",
    "    for i in tqdm(range(len(residuals.values) - past_weeks*24*7)):\n",
    "        X_el = residuals[i:i+24*7*past_weeks:24*7]\n",
    "        X.append(X_el)\n",
    "        y.append([residuals.iloc[i+past_weeks*24*7]])\n",
    "    \n",
    "    return X, y\n"
   ]
  },
  {
   "cell_type": "code",
   "execution_count": 219,
   "metadata": {},
   "outputs": [
    {
     "name": "stderr",
     "output_type": "stream",
     "text": [
      "100%|██████████| 12230/12230 [00:00<00:00, 21570.27it/s]\n"
     ]
    }
   ],
   "source": [
    "X, y = data_ANN(past_weeks, df)"
   ]
  },
  {
   "cell_type": "code",
   "execution_count": 220,
   "metadata": {},
   "outputs": [],
   "source": [
    "train_size_percentage = 0.50\n",
    "\n",
    "train_size = int(len(X)*train_size_percentage)\n",
    "#print(len(data_extraction.get_timeseries(\"train\", nRowsRead, 'loss', grid_number))/(24*7))\n",
    "\n",
    "X_train = X[:train_size]\n",
    "y_train = y[:train_size]\n",
    "\n",
    "X_test = X[train_size:]\n",
    "y_test = y[train_size:]"
   ]
  },
  {
   "cell_type": "code",
   "execution_count": 221,
   "metadata": {},
   "outputs": [],
   "source": [
    "model = ANN_train(X_train, y_train, hidden_layers)"
   ]
  },
  {
   "cell_type": "code",
   "execution_count": 222,
   "metadata": {},
   "outputs": [],
   "source": [
    "def ANN_pred(model, X_test,X,y):\n",
    "    X_test = X_test.copy()\n",
    "    y_test = []\n",
    "    for i in tqdm(range(len(X_test))):\n",
    "        X_test_el = X_test[i].values\n",
    "        val = model.predict(X_test_el.reshape(1,-1))\n",
    "        y_test.append(val[0])\n",
    "        if i%23==0 and i < len(X_test)-24:\n",
    "            model.partial_fit(X[train_size+i:train_size+i+24], y[train_size+i:train_size+i+24])\n",
    "    return y_test\n",
    "\n"
   ]
  },
  {
   "cell_type": "code",
   "execution_count": 223,
   "metadata": {},
   "outputs": [
    {
     "name": "stderr",
     "output_type": "stream",
     "text": [
      "100%|██████████| 6115/6115 [00:01<00:00, 5991.26it/s]\n"
     ]
    }
   ],
   "source": [
    "y_pred = ANN_pred(model, X_test,X,y)"
   ]
  },
  {
   "cell_type": "code",
   "execution_count": 224,
   "metadata": {},
   "outputs": [],
   "source": [
    "temp = df.copy()\n",
    "temp['pred_residuals'] = np.nan\n",
    "temp['pred_residuals'].iloc[-len(y_pred):] = y_pred\n",
    "#(temp['residuals']-temp['pred_residuals']).dropna().hist()"
   ]
  },
  {
   "cell_type": "code",
   "execution_count": 225,
   "metadata": {},
   "outputs": [
    {
     "data": {
      "text/plain": [
       "<matplotlib.axes._subplots.AxesSubplot at 0x7fcd3fa37190>"
      ]
     },
     "execution_count": 225,
     "metadata": {},
     "output_type": "execute_result"
    },
    {
     "data": {
      "image/png": "[encoded data removed]",
      "text/plain": [
       "<Figure size 432x288 with 1 Axes>"
      ]
     },
     "metadata": {
      "needs_background": "light"
     },
     "output_type": "display_data"
    }
   ],
   "source": [
    "temp[\"pred_residuals\"].hist()"
   ]
  },
  {
   "cell_type": "code",
   "execution_count": 226,
   "metadata": {},
   "outputs": [],
   "source": [
    "df_from_ANN = pd.read_pickle('ANN_alone_forecast.pkl')"
   ]
  },
  {
   "cell_type": "code",
   "execution_count": 227,
   "metadata": {},
   "outputs": [
    {
     "data": {
      "text/html": [
       "<div>\n",
       "<style scoped>\n",
       "    .dataframe tbody tr th:only-of-type {\n",
       "        vertical-align: middle;\n",
       "    }\n",
       "\n",
       "    .dataframe tbody tr th {\n",
       "        vertical-align: top;\n",
       "    }\n",
       "\n",
       "    .dataframe thead th {\n",
       "        text-align: right;\n",
       "    }\n",
       "</style>\n",
       "<table border=\"1\" class=\"dataframe\">\n",
       "  <thead>\n",
       "    <tr style=\"text-align: right;\">\n",
       "      <th></th>\n",
       "      <th>grid1-loss</th>\n",
       "      <th>pred</th>\n",
       "      <th>diff</th>\n",
       "      <th>ann_sum_error</th>\n",
       "      <th>ann_cumsum</th>\n",
       "    </tr>\n",
       "  </thead>\n",
       "  <tbody>\n",
       "    <tr>\n",
       "      <th>2019-12-01 00:00:00</th>\n",
       "      <td>21.55210</td>\n",
       "      <td>22.686309</td>\n",
       "      <td>-1.134209</td>\n",
       "      <td>1.134209</td>\n",
       "      <td>1.134209</td>\n",
       "    </tr>\n",
       "    <tr>\n",
       "      <th>2019-12-01 01:00:00</th>\n",
       "      <td>20.71190</td>\n",
       "      <td>21.595508</td>\n",
       "      <td>-0.883608</td>\n",
       "      <td>0.883608</td>\n",
       "      <td>2.017817</td>\n",
       "    </tr>\n",
       "    <tr>\n",
       "      <th>2019-12-01 02:00:00</th>\n",
       "      <td>20.27340</td>\n",
       "      <td>20.773316</td>\n",
       "      <td>-0.499916</td>\n",
       "      <td>0.499916</td>\n",
       "      <td>2.517733</td>\n",
       "    </tr>\n",
       "    <tr>\n",
       "      <th>2019-12-01 03:00:00</th>\n",
       "      <td>20.25370</td>\n",
       "      <td>20.443139</td>\n",
       "      <td>-0.189439</td>\n",
       "      <td>0.189439</td>\n",
       "      <td>2.707172</td>\n",
       "    </tr>\n",
       "    <tr>\n",
       "      <th>2019-12-01 04:00:00</th>\n",
       "      <td>20.40550</td>\n",
       "      <td>20.209076</td>\n",
       "      <td>0.196424</td>\n",
       "      <td>0.196424</td>\n",
       "      <td>2.903596</td>\n",
       "    </tr>\n",
       "    <tr>\n",
       "      <th>...</th>\n",
       "      <td>...</td>\n",
       "      <td>...</td>\n",
       "      <td>...</td>\n",
       "      <td>...</td>\n",
       "      <td>...</td>\n",
       "    </tr>\n",
       "    <tr>\n",
       "      <th>2020-05-30 19:00:00</th>\n",
       "      <td>8.55980</td>\n",
       "      <td>13.035968</td>\n",
       "      <td>-4.476168</td>\n",
       "      <td>4.476168</td>\n",
       "      <td>22534.680531</td>\n",
       "    </tr>\n",
       "    <tr>\n",
       "      <th>2020-05-30 20:00:00</th>\n",
       "      <td>6.95209</td>\n",
       "      <td>12.870605</td>\n",
       "      <td>-5.918515</td>\n",
       "      <td>5.918515</td>\n",
       "      <td>22540.599047</td>\n",
       "    </tr>\n",
       "    <tr>\n",
       "      <th>2020-05-30 21:00:00</th>\n",
       "      <td>8.11558</td>\n",
       "      <td>12.926121</td>\n",
       "      <td>-4.810541</td>\n",
       "      <td>4.810541</td>\n",
       "      <td>22545.409588</td>\n",
       "    </tr>\n",
       "    <tr>\n",
       "      <th>2020-05-30 23:00:00</th>\n",
       "      <td>7.26431</td>\n",
       "      <td>12.561953</td>\n",
       "      <td>-5.297643</td>\n",
       "      <td>5.297643</td>\n",
       "      <td>22550.707231</td>\n",
       "    </tr>\n",
       "    <tr>\n",
       "      <th>2020-05-31 00:00:00</th>\n",
       "      <td>6.78796</td>\n",
       "      <td>12.481584</td>\n",
       "      <td>-5.693624</td>\n",
       "      <td>5.693624</td>\n",
       "      <td>22556.400856</td>\n",
       "    </tr>\n",
       "  </tbody>\n",
       "</table>\n",
       "<p>4335 rows × 5 columns</p>\n",
       "</div>"
      ],
      "text/plain": [
       "                     grid1-loss       pred      diff  ann_sum_error  \\\n",
       "2019-12-01 00:00:00    21.55210  22.686309 -1.134209       1.134209   \n",
       "2019-12-01 01:00:00    20.71190  21.595508 -0.883608       0.883608   \n",
       "2019-12-01 02:00:00    20.27340  20.773316 -0.499916       0.499916   \n",
       "2019-12-01 03:00:00    20.25370  20.443139 -0.189439       0.189439   \n",
       "2019-12-01 04:00:00    20.40550  20.209076  0.196424       0.196424   \n",
       "...                         ...        ...       ...            ...   \n",
       "2020-05-30 19:00:00     8.55980  13.035968 -4.476168       4.476168   \n",
       "2020-05-30 20:00:00     6.95209  12.870605 -5.918515       5.918515   \n",
       "2020-05-30 21:00:00     8.11558  12.926121 -4.810541       4.810541   \n",
       "2020-05-30 23:00:00     7.26431  12.561953 -5.297643       5.297643   \n",
       "2020-05-31 00:00:00     6.78796  12.481584 -5.693624       5.693624   \n",
       "\n",
       "                       ann_cumsum  \n",
       "2019-12-01 00:00:00      1.134209  \n",
       "2019-12-01 01:00:00      2.017817  \n",
       "2019-12-01 02:00:00      2.517733  \n",
       "2019-12-01 03:00:00      2.707172  \n",
       "2019-12-01 04:00:00      2.903596  \n",
       "...                           ...  \n",
       "2020-05-30 19:00:00  22534.680531  \n",
       "2020-05-30 20:00:00  22540.599047  \n",
       "2020-05-30 21:00:00  22545.409588  \n",
       "2020-05-30 23:00:00  22550.707231  \n",
       "2020-05-31 00:00:00  22556.400856  \n",
       "\n",
       "[4335 rows x 5 columns]"
      ]
     },
     "execution_count": 227,
     "metadata": {},
     "output_type": "execute_result"
    }
   ],
   "source": [
    "df_from_ANN"
   ]
  },
  {
   "cell_type": "code",
   "execution_count": 228,
   "metadata": {},
   "outputs": [],
   "source": [
    "temp = temp.dropna()\n",
    "\n",
    "temp['Hybrid'] = temp['ARIMA']+temp['pred_residuals']\n",
    "temp['ANN'] = df_from_ANN['pred']\n",
    "\n",
    "temp['arima_sum_error'] = abs(temp['grid-loss'] - temp['ARIMA'])\n",
    "temp['hybrid_sum_error'] = abs(temp['grid-loss'] - temp['Hybrid'])\n",
    "temp['ann_sum_error'] = df_from_ANN['ann_sum_error']\n",
    "\n",
    "temp['arima_cumsum'] = temp['arima_sum_error'].cumsum()\n",
    "temp['hybrid_cumsum'] = temp['hybrid_sum_error'].cumsum()\n",
    "temp['error_in_res'] = (temp['residuals']-temp['pred_residuals'])\n",
    "temp['ann_cumsum'] = df_from_ANN['ann_sum_error'].iloc[-train_size:].cumsum()"
   ]
  },
  {
   "cell_type": "code",
   "execution_count": 229,
   "metadata": {},
   "outputs": [],
   "source": [
    "temp['grid-loss'].min()\n",
    "temp.index = [to_datetime(string) for string in temp.index]"
   ]
  },
  {
   "cell_type": "code",
   "execution_count": 230,
   "metadata": {},
   "outputs": [
    {
     "data": {
      "text/plain": [
       "<matplotlib.axes._subplots.AxesSubplot at 0x7fcd3e2d5a30>"
      ]
     },
     "execution_count": 230,
     "metadata": {},
     "output_type": "execute_result"
    },
    {
     "data": {
      "image/png": "[encoded data removed]",
      "text/plain": [
       "<Figure size 432x288 with 1 Axes>"
      ]
     },
     "metadata": {
      "needs_background": "light"
     },
     "output_type": "display_data"
    }
   ],
   "source": [
    "temp[['arima_cumsum','hybrid_cumsum']].iloc[:].plot()\n"
   ]
  },
  {
   "cell_type": "code",
   "execution_count": 231,
   "metadata": {},
   "outputs": [
    {
     "data": {
      "text/plain": [
       "0.08075061293816439"
      ]
     },
     "execution_count": 231,
     "metadata": {},
     "output_type": "execute_result"
    }
   ],
   "source": [
    "(temp['arima_cumsum'].iloc[-1]-temp['hybrid_cumsum'].iloc[-1])/temp['arima_cumsum'].iloc[-1]"
   ]
  },
  {
   "cell_type": "code",
   "execution_count": 232,
   "metadata": {},
   "outputs": [],
   "source": [
    "diff = temp['grid-loss']-temp['Hybrid']\n",
    "mse_hybrid = (diff**2).mean()"
   ]
  },
  {
   "cell_type": "code",
   "execution_count": 233,
   "metadata": {},
   "outputs": [],
   "source": [
    "diff = temp['grid-loss']-temp['ARIMA']\n",
    "mse_arima = (diff**2).mean()\n",
    "\n"
   ]
  },
  {
   "cell_type": "code",
   "execution_count": 234,
   "metadata": {},
   "outputs": [
    {
     "data": {
      "text/plain": [
       "0.12642170595675065"
      ]
     },
     "execution_count": 234,
     "metadata": {},
     "output_type": "execute_result"
    }
   ],
   "source": [
    "(mse_arima-mse_hybrid)/mse_arima"
   ]
  },
  {
   "cell_type": "code",
   "execution_count": 114,
   "metadata": {},
   "outputs": [
    {
     "data": {
      "text/plain": [
       "2019-10-19 08:00:00        0.145961\n",
       "2019-10-19 09:00:00        0.656815\n",
       "2019-10-19 10:00:00        0.945262\n",
       "2019-10-19 11:00:00        1.053622\n",
       "2019-10-19 12:00:00        2.057389\n",
       "                           ...     \n",
       "2020-05-30 19:00:00    22703.739228\n",
       "2020-05-30 20:00:00    22704.038170\n",
       "2020-05-30 21:00:00    22705.423609\n",
       "2020-05-30 23:00:00    22709.884834\n",
       "2020-05-31 00:00:00    22712.576567\n",
       "Name: error_in_res, Length: 5359, dtype: float64"
      ]
     },
     "execution_count": 114,
     "metadata": {},
     "output_type": "execute_result"
    }
   ],
   "source": [
    "abs(temp['error_in_res']).cumsum()"
   ]
  },
  {
   "cell_type": "code",
   "execution_count": 115,
   "metadata": {},
   "outputs": [],
   "source": [
    "temp.index = [to_datetime(string) for string in temp.index]"
   ]
  },
  {
   "cell_type": "code",
   "execution_count": 116,
   "metadata": {},
   "outputs": [
    {
     "data": {
      "text/plain": [
       "<matplotlib.axes._subplots.AxesSubplot at 0x7ffc84d3efa0>"
      ]
     },
     "execution_count": 116,
     "metadata": {},
     "output_type": "execute_result"
    },
    {
     "data": {
      "image/png": "[encoded data removed]",
      "text/plain": [
       "<Figure size 432x288 with 1 Axes>"
      ]
     },
     "metadata": {
      "needs_background": "light"
     },
     "output_type": "display_data"
    }
   ],
   "source": [
    "temp[['pred_residuals','residuals']].iloc[50:100].plot()"
   ]
  },
  {
   "cell_type": "code",
   "execution_count": 117,
   "metadata": {},
   "outputs": [
    {
     "data": {
      "text/plain": [
       "<matplotlib.axes._subplots.AxesSubplot at 0x7ffc84ee3d00>"
      ]
     },
     "execution_count": 117,
     "metadata": {},
     "output_type": "execute_result"
    },
    {
     "data": {
      "image/png": "[encoded data removed]",
      "text/plain": [
       "<Figure size 432x288 with 1 Axes>"
      ]
     },
     "metadata": {
      "needs_background": "light"
     },
     "output_type": "display_data"
    }
   ],
   "source": [
    "temp[['grid-loss','ARIMA', 'Hybrid', 'ANN']].iloc[2400:2424].plot()"
   ]
  },
  {
   "cell_type": "code",
   "execution_count": 46,
   "metadata": {},
   "outputs": [],
   "source": [
    "mse = sum([temp['grid-loss']-temp['Hybrid']])"
   ]
  },
  {
   "cell_type": "code",
   "execution_count": 236,
   "metadata": {},
   "outputs": [],
   "source": [
    "temp[['Hybrid', 'pred_residuals']].to_pickle('ANN_in_hybrid_forecast.pkl')"
   ]
  },
  {
   "cell_type": "code",
   "execution_count": 235,
   "metadata": {},
   "outputs": [
    {
     "data": {
      "text/html": [
       "<div>\n",
       "<style scoped>\n",
       "    .dataframe tbody tr th:only-of-type {\n",
       "        vertical-align: middle;\n",
       "    }\n",
       "\n",
       "    .dataframe tbody tr th {\n",
       "        vertical-align: top;\n",
       "    }\n",
       "\n",
       "    .dataframe thead th {\n",
       "        text-align: right;\n",
       "    }\n",
       "</style>\n",
       "<table border=\"1\" class=\"dataframe\">\n",
       "  <thead>\n",
       "    <tr style=\"text-align: right;\">\n",
       "      <th></th>\n",
       "      <th>grid-loss</th>\n",
       "      <th>ARIMA</th>\n",
       "      <th>residuals</th>\n",
       "      <th>pred_residuals</th>\n",
       "      <th>Hybrid</th>\n",
       "      <th>ANN</th>\n",
       "      <th>arima_sum_error</th>\n",
       "      <th>hybrid_sum_error</th>\n",
       "      <th>ann_sum_error</th>\n",
       "      <th>arima_cumsum</th>\n",
       "      <th>hybrid_cumsum</th>\n",
       "      <th>error_in_res</th>\n",
       "      <th>ann_cumsum</th>\n",
       "    </tr>\n",
       "  </thead>\n",
       "  <tbody>\n",
       "    <tr>\n",
       "      <th>2019-09-17 20:00:00</th>\n",
       "      <td>15.23740</td>\n",
       "      <td>17.894140</td>\n",
       "      <td>-2.656740</td>\n",
       "      <td>-0.900096</td>\n",
       "      <td>16.994044</td>\n",
       "      <td>NaN</td>\n",
       "      <td>2.656740</td>\n",
       "      <td>1.756644</td>\n",
       "      <td>NaN</td>\n",
       "      <td>2.656740</td>\n",
       "      <td>1.756644</td>\n",
       "      <td>-1.756644</td>\n",
       "      <td>NaN</td>\n",
       "    </tr>\n",
       "    <tr>\n",
       "      <th>2019-09-17 21:00:00</th>\n",
       "      <td>13.20070</td>\n",
       "      <td>15.633927</td>\n",
       "      <td>-2.433227</td>\n",
       "      <td>-0.219159</td>\n",
       "      <td>15.414768</td>\n",
       "      <td>NaN</td>\n",
       "      <td>2.433227</td>\n",
       "      <td>2.214068</td>\n",
       "      <td>NaN</td>\n",
       "      <td>5.089967</td>\n",
       "      <td>3.970712</td>\n",
       "      <td>-2.214068</td>\n",
       "      <td>NaN</td>\n",
       "    </tr>\n",
       "    <tr>\n",
       "      <th>2019-09-17 22:00:00</th>\n",
       "      <td>11.59470</td>\n",
       "      <td>14.029514</td>\n",
       "      <td>-2.434814</td>\n",
       "      <td>-0.028028</td>\n",
       "      <td>14.001486</td>\n",
       "      <td>NaN</td>\n",
       "      <td>2.434814</td>\n",
       "      <td>2.406786</td>\n",
       "      <td>NaN</td>\n",
       "      <td>7.524780</td>\n",
       "      <td>6.377498</td>\n",
       "      <td>-2.406786</td>\n",
       "      <td>NaN</td>\n",
       "    </tr>\n",
       "    <tr>\n",
       "      <th>2019-09-17 23:00:00</th>\n",
       "      <td>10.71090</td>\n",
       "      <td>13.231901</td>\n",
       "      <td>-2.521001</td>\n",
       "      <td>-0.141197</td>\n",
       "      <td>13.090704</td>\n",
       "      <td>NaN</td>\n",
       "      <td>2.521001</td>\n",
       "      <td>2.379804</td>\n",
       "      <td>NaN</td>\n",
       "      <td>10.045781</td>\n",
       "      <td>8.757302</td>\n",
       "      <td>-2.379804</td>\n",
       "      <td>NaN</td>\n",
       "    </tr>\n",
       "    <tr>\n",
       "      <th>2019-09-18 00:00:00</th>\n",
       "      <td>10.39860</td>\n",
       "      <td>12.977387</td>\n",
       "      <td>-2.578787</td>\n",
       "      <td>-0.308097</td>\n",
       "      <td>12.669291</td>\n",
       "      <td>NaN</td>\n",
       "      <td>2.578787</td>\n",
       "      <td>2.270691</td>\n",
       "      <td>NaN</td>\n",
       "      <td>12.624568</td>\n",
       "      <td>11.027992</td>\n",
       "      <td>-2.270691</td>\n",
       "      <td>NaN</td>\n",
       "    </tr>\n",
       "    <tr>\n",
       "      <th>...</th>\n",
       "      <td>...</td>\n",
       "      <td>...</td>\n",
       "      <td>...</td>\n",
       "      <td>...</td>\n",
       "      <td>...</td>\n",
       "      <td>...</td>\n",
       "      <td>...</td>\n",
       "      <td>...</td>\n",
       "      <td>...</td>\n",
       "      <td>...</td>\n",
       "      <td>...</td>\n",
       "      <td>...</td>\n",
       "      <td>...</td>\n",
       "    </tr>\n",
       "    <tr>\n",
       "      <th>2020-05-30 19:00:00</th>\n",
       "      <td>8.55980</td>\n",
       "      <td>7.594048</td>\n",
       "      <td>0.965752</td>\n",
       "      <td>-0.024951</td>\n",
       "      <td>7.569097</td>\n",
       "      <td>13.035968</td>\n",
       "      <td>0.965752</td>\n",
       "      <td>0.990703</td>\n",
       "      <td>4.476168</td>\n",
       "      <td>24387.079907</td>\n",
       "      <td>22416.337404</td>\n",
       "      <td>0.990703</td>\n",
       "      <td>22534.680531</td>\n",
       "    </tr>\n",
       "    <tr>\n",
       "      <th>2020-05-30 20:00:00</th>\n",
       "      <td>6.95209</td>\n",
       "      <td>7.230576</td>\n",
       "      <td>-0.278486</td>\n",
       "      <td>-0.024951</td>\n",
       "      <td>7.205625</td>\n",
       "      <td>12.870605</td>\n",
       "      <td>0.278486</td>\n",
       "      <td>0.253535</td>\n",
       "      <td>5.918515</td>\n",
       "      <td>24387.358392</td>\n",
       "      <td>22416.590939</td>\n",
       "      <td>-0.253535</td>\n",
       "      <td>22540.599047</td>\n",
       "    </tr>\n",
       "    <tr>\n",
       "      <th>2020-05-30 21:00:00</th>\n",
       "      <td>8.11558</td>\n",
       "      <td>9.480563</td>\n",
       "      <td>-1.364983</td>\n",
       "      <td>-0.985221</td>\n",
       "      <td>8.495342</td>\n",
       "      <td>12.926121</td>\n",
       "      <td>1.364983</td>\n",
       "      <td>0.379762</td>\n",
       "      <td>4.810541</td>\n",
       "      <td>24388.723375</td>\n",
       "      <td>22416.970701</td>\n",
       "      <td>-0.379762</td>\n",
       "      <td>22545.409588</td>\n",
       "    </tr>\n",
       "    <tr>\n",
       "      <th>2020-05-30 23:00:00</th>\n",
       "      <td>7.26431</td>\n",
       "      <td>11.705078</td>\n",
       "      <td>-4.440768</td>\n",
       "      <td>1.798962</td>\n",
       "      <td>13.504040</td>\n",
       "      <td>12.561953</td>\n",
       "      <td>4.440768</td>\n",
       "      <td>6.239730</td>\n",
       "      <td>5.297643</td>\n",
       "      <td>24393.164144</td>\n",
       "      <td>22423.210431</td>\n",
       "      <td>-6.239730</td>\n",
       "      <td>22550.707231</td>\n",
       "    </tr>\n",
       "    <tr>\n",
       "      <th>2020-05-31 00:00:00</th>\n",
       "      <td>6.78796</td>\n",
       "      <td>9.459236</td>\n",
       "      <td>-2.671276</td>\n",
       "      <td>-0.024951</td>\n",
       "      <td>9.434285</td>\n",
       "      <td>12.481584</td>\n",
       "      <td>2.671276</td>\n",
       "      <td>2.646325</td>\n",
       "      <td>5.693624</td>\n",
       "      <td>24395.835420</td>\n",
       "      <td>22425.856757</td>\n",
       "      <td>-2.646325</td>\n",
       "      <td>22556.400856</td>\n",
       "    </tr>\n",
       "  </tbody>\n",
       "</table>\n",
       "<p>6115 rows × 13 columns</p>\n",
       "</div>"
      ],
      "text/plain": [
       "                     grid-loss      ARIMA  residuals  pred_residuals  \\\n",
       "2019-09-17 20:00:00   15.23740  17.894140  -2.656740       -0.900096   \n",
       "2019-09-17 21:00:00   13.20070  15.633927  -2.433227       -0.219159   \n",
       "2019-09-17 22:00:00   11.59470  14.029514  -2.434814       -0.028028   \n",
       "2019-09-17 23:00:00   10.71090  13.231901  -2.521001       -0.141197   \n",
       "2019-09-18 00:00:00   10.39860  12.977387  -2.578787       -0.308097   \n",
       "...                        ...        ...        ...             ...   \n",
       "2020-05-30 19:00:00    8.55980   7.594048   0.965752       -0.024951   \n",
       "2020-05-30 20:00:00    6.95209   7.230576  -0.278486       -0.024951   \n",
       "2020-05-30 21:00:00    8.11558   9.480563  -1.364983       -0.985221   \n",
       "2020-05-30 23:00:00    7.26431  11.705078  -4.440768        1.798962   \n",
       "2020-05-31 00:00:00    6.78796   9.459236  -2.671276       -0.024951   \n",
       "\n",
       "                        Hybrid        ANN  arima_sum_error  hybrid_sum_error  \\\n",
       "2019-09-17 20:00:00  16.994044        NaN         2.656740          1.756644   \n",
       "2019-09-17 21:00:00  15.414768        NaN         2.433227          2.214068   \n",
       "2019-09-17 22:00:00  14.001486        NaN         2.434814          2.406786   \n",
       "2019-09-17 23:00:00  13.090704        NaN         2.521001          2.379804   \n",
       "2019-09-18 00:00:00  12.669291        NaN         2.578787          2.270691   \n",
       "...                        ...        ...              ...               ...   \n",
       "2020-05-30 19:00:00   7.569097  13.035968         0.965752          0.990703   \n",
       "2020-05-30 20:00:00   7.205625  12.870605         0.278486          0.253535   \n",
       "2020-05-30 21:00:00   8.495342  12.926121         1.364983          0.379762   \n",
       "2020-05-30 23:00:00  13.504040  12.561953         4.440768          6.239730   \n",
       "2020-05-31 00:00:00   9.434285  12.481584         2.671276          2.646325   \n",
       "\n",
       "                     ann_sum_error  arima_cumsum  hybrid_cumsum  error_in_res  \\\n",
       "2019-09-17 20:00:00            NaN      2.656740       1.756644     -1.756644   \n",
       "2019-09-17 21:00:00            NaN      5.089967       3.970712     -2.214068   \n",
       "2019-09-17 22:00:00            NaN      7.524780       6.377498     -2.406786   \n",
       "2019-09-17 23:00:00            NaN     10.045781       8.757302     -2.379804   \n",
       "2019-09-18 00:00:00            NaN     12.624568      11.027992     -2.270691   \n",
       "...                            ...           ...            ...           ...   \n",
       "2020-05-30 19:00:00       4.476168  24387.079907   22416.337404      0.990703   \n",
       "2020-05-30 20:00:00       5.918515  24387.358392   22416.590939     -0.253535   \n",
       "2020-05-30 21:00:00       4.810541  24388.723375   22416.970701     -0.379762   \n",
       "2020-05-30 23:00:00       5.297643  24393.164144   22423.210431     -6.239730   \n",
       "2020-05-31 00:00:00       5.693624  24395.835420   22425.856757     -2.646325   \n",
       "\n",
       "                       ann_cumsum  \n",
       "2019-09-17 20:00:00           NaN  \n",
       "2019-09-17 21:00:00           NaN  \n",
       "2019-09-17 22:00:00           NaN  \n",
       "2019-09-17 23:00:00           NaN  \n",
       "2019-09-18 00:00:00           NaN  \n",
       "...                           ...  \n",
       "2020-05-30 19:00:00  22534.680531  \n",
       "2020-05-30 20:00:00  22540.599047  \n",
       "2020-05-30 21:00:00  22545.409588  \n",
       "2020-05-30 23:00:00  22550.707231  \n",
       "2020-05-31 00:00:00  22556.400856  \n",
       "\n",
       "[6115 rows x 13 columns]"
      ]
     },
     "execution_count": 235,
     "metadata": {},
     "output_type": "execute_result"
    }
   ],
   "source": [
    "temp"
   ]
  },
  {
   "cell_type": "code",
   "execution_count": null,
   "metadata": {},
   "outputs": [],
   "source": []
  }
 ],
 "metadata": {
  "kernelspec": {
   "display_name": "Python 3",
   "language": "python",
   "name": "python3"
  },
  "language_info": {
   "codemirror_mode": {
    "name": "ipython",
    "version": 3
   },
   "file_extension": ".py",
   "mimetype": "text/x-python",
   "name": "python",
   "nbconvert_exporter": "python",
   "pygments_lexer": "ipython3",
   "version": "3.8.3"
  }
 },
 "nbformat": 4,
 "nbformat_minor": 4
}
