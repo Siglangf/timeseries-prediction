{
 "cells": [
  {
   "cell_type": "code",
   "execution_count": 2,
   "metadata": {},
   "outputs": [],
   "source": [
    "from sklearn.neural_network import MLPRegressor\n",
    "from sklearn.model_selection import GridSearchCV\n",
    "import numpy as np\n",
    "import pandas as pd\n",
    "import data_extraction\n",
    "import ARIMA\n",
    "from datetime import datetime\n",
    "import matplotlib.pyplot as plt"
   ]
  },
  {
   "cell_type": "code",
   "execution_count": 3,
   "metadata": {},
   "outputs": [],
   "source": [
    "past_days = 40\n",
    "nRowsRead = None\n",
    "grid_number = 1"
   ]
  },
  {
   "cell_type": "code",
   "execution_count": 5,
   "metadata": {},
   "outputs": [],
   "source": [
    "def data_ANN(past_days):\n",
    "    # input values\n",
    "    # past_days is the number of past days of the grid_loss that the ANN will use\n",
    "    loss_train_series = data_extraction.get_timeseries(\"train\", nRowsRead, 'loss', grid_number)\n",
    "    loss_test_series = data_extraction.get_timeseries(\"test\", nRowsRead, 'loss', grid_number)\n",
    "    load_train_series = data_extraction.get_timeseries(\"train\", nRowsRead, 'load', grid_number)\n",
    "    load_test_series = data_extraction.get_timeseries(\"test\", nRowsRead, 'load', grid_number)\n",
    "    \n",
    "    loss_series = loss_train_series.append(loss_test_series)\n",
    "    load_series = load_train_series.append(load_test_series)\n",
    "    \n",
    "    X = []\n",
    "    y = []\n",
    "    \n",
    "    \n",
    "    for i in range(len(loss_series) - past_days*24):\n",
    "        X.append(loss_series[i:i+past_days*24:24].values + load_series[i:i+past_days*24:24].values)\n",
    "        y.append(loss_series[i + past_days*24])\n",
    "    \n",
    "    return X, y\n",
    "\n"
   ]
  },
  {
   "cell_type": "code",
   "execution_count": 6,
   "metadata": {},
   "outputs": [],
   "source": [
    "X,y = data_ANN(past_days)"
   ]
  },
  {
   "cell_type": "code",
   "execution_count": 7,
   "metadata": {},
   "outputs": [],
   "source": [
    "train_size = len(data_extraction.get_timeseries(\"train\", nRowsRead, 'loss', grid_number)) - past_days*24\n",
    "X_train = X[:train_size]\n",
    "y_train = y[:train_size]\n",
    "\n",
    "X_test = X[train_size:]\n",
    "y_test = y[train_size:]"
   ]
  },
  {
   "cell_type": "code",
   "execution_count": null,
   "metadata": {},
   "outputs": [],
   "source": []
  },
  {
   "cell_type": "code",
   "execution_count": 8,
   "metadata": {},
   "outputs": [],
   "source": [
    "model = MLPRegressor(solver=\"adam\", \n",
    "                         alpha=1e-5, \n",
    "                         random_state=1, \n",
    "                         max_iter=20000,\n",
    "                         tol=1e-4)"
   ]
  },
  {
   "cell_type": "code",
   "execution_count": null,
   "metadata": {},
   "outputs": [],
   "source": [
    "model.get_params().keys()"
   ]
  },
  {
   "cell_type": "code",
   "execution_count": null,
   "metadata": {},
   "outputs": [],
   "source": [
    "parameters = {'solver': ['adam'], 'hidden_layer_sizes' : [(i,i) for i in range(2,5,2)]}"
   ]
  },
  {
   "cell_type": "code",
   "execution_count": null,
   "metadata": {},
   "outputs": [],
   "source": [
    "gsCV = GridSearchCV(model , parameters)"
   ]
  },
  {
   "cell_type": "code",
   "execution_count": null,
   "metadata": {},
   "outputs": [],
   "source": [
    "gsCV.fit(X_train, y_train)"
   ]
  },
  {
   "cell_type": "code",
   "execution_count": null,
   "metadata": {},
   "outputs": [],
   "source": [
    "sorted(gsCV.cv_results_.keys())"
   ]
  },
  {
   "cell_type": "code",
   "execution_count": null,
   "metadata": {},
   "outputs": [],
   "source": [
    "gsCV.best_params_"
   ]
  }
 ],
 "metadata": {
  "kernelspec": {
   "display_name": "Python 3",
   "language": "python",
   "name": "python3"
  },
  "language_info": {
   "codemirror_mode": {
    "name": "ipython",
    "version": 3
   },
   "file_extension": ".py",
   "mimetype": "text/x-python",
   "name": "python",
   "nbconvert_exporter": "python",
   "pygments_lexer": "ipython3",
   "version": "3.8.3"
  }
 },
 "nbformat": 4,
 "nbformat_minor": 4
}
