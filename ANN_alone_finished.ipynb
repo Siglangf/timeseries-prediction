{
 "cells": [
  {
   "cell_type": "code",
   "execution_count": 131,
   "metadata": {},
   "outputs": [],
   "source": [
    "from sklearn.neural_network import MLPRegressor\n",
    "import numpy as np\n",
    "import pandas as pd\n",
    "import data_extraction\n",
    "import ARIMA\n",
    "from datetime import datetime\n",
    "import matplotlib.pyplot as plt"
   ]
  },
  {
   "cell_type": "code",
   "execution_count": 132,
   "metadata": {},
   "outputs": [],
   "source": [
    "def ANN_train(X_train, y_train, hidden_layers, alpha=1e-5, random_state=1):\n",
    "    '''\n",
    "    INPUT:\n",
    "    timeseries: TYPE: DataFrame. Contains column named 'residual'\n",
    "    q: TYPE: Integer. Decides how many historical values to consider\n",
    "    hidden_layers: TYPE: Tuple of integers. The number on the i'th position decides number of nodes in hidden layer i\n",
    "\n",
    "    OUTPUT:\n",
    "    Returns trained model: TYPE: MLPRegressor\n",
    "    '''\n",
    "    model = MLPRegressor(solver=\"lbfgs\", \n",
    "                         alpha=alpha, \n",
    "                         hidden_layer_sizes=hidden_layers, \n",
    "                         random_state=random_state, \n",
    "                         max_iter=20000,\n",
    "                         tol=1e-4) #default tolerance\n",
    "    model.fit(X_train, y_train)\n",
    "    return model"
   ]
  },
  {
   "cell_type": "code",
   "execution_count": 133,
   "metadata": {},
   "outputs": [],
   "source": [
    "past_vals = 40\n",
    "nRowsRead = None\n",
    "grid_number = 1\n"
   ]
  },
  {
   "cell_type": "code",
   "execution_count": 134,
   "metadata": {},
   "outputs": [],
   "source": [
    "\n",
    "\n",
    "def data_ANN_train(past_vals):\n",
    "    # input values\n",
    "    # past_vals is the number of past values of the grid_loss that the ANN will use\n",
    "    loss_series = data_extraction.get_timeseries(\"train\", nRowsRead, 'loss', grid_number)\n",
    "    load_series = data_extraction.get_timeseries(\"train\", nRowsRead, 'load', grid_number)\n",
    "    \n",
    "    X = []\n",
    "    y = []\n",
    "    \n",
    "    \n",
    "    for i in range(len(loss_series) - past_vals - 1):\n",
    "        X_el = loss_series[i:i+past_vals]\n",
    "        \n",
    "        t = datetime.strptime(loss_series.index[i+past_vals], \"%Y-%m-%d %H:%M:%S\")\n",
    "        \n",
    "        X_el_additional = []\n",
    "        X_el_additional.append(t.hour)\n",
    "        X_el_additional.append(t.month)\n",
    "\n",
    "        # add the load of the predicted value\n",
    "        X_el_additional.append(load_series[i+past_vals])\n",
    "        \n",
    "        X_el_additional = pd.Series(X_el_additional, name = X_el.name)\n",
    "\n",
    "        df = pd.DataFrame(X_el.append(X_el_additional, ignore_index = True))\n",
    "        nd = df.values\n",
    "\n",
    "        nd_new = np.ndarray(shape=len(df.values))\n",
    "\n",
    "\n",
    "        for j in range(len(nd)):\n",
    "            nd_new[j] = nd[j,0]\n",
    "\n",
    "        X.append(nd_new)\n",
    "        y.append(loss_series[i + past_vals])\n",
    "    \n",
    "    return X, y\n"
   ]
  },
  {
   "cell_type": "code",
   "execution_count": 135,
   "metadata": {},
   "outputs": [
    {
     "name": "stdout",
     "output_type": "stream",
     "text": [
      "[ 18.766  18.02   18.246  18.645  19.823  23.797  29.153  30.826  30.551\n",
      "  30.275  30.115  30.162  29.928  30.01   31.     31.071  30.341  29.032\n",
      "  28.401  26.774  25.105  23.21   21.094  18.908  17.327  16.474  15.908\n",
      "  15.743  15.725  16.165  17.24   18.928  20.891  22.304  22.569  22.096\n",
      "  21.691  21.449  21.938  22.411  16.     12.    499.758]\n"
     ]
    }
   ],
   "source": [
    "training_num = 24*4\n",
    "X,y = data_ANN_train(past_vals)\n",
    "\n",
    "print(X[0])\n",
    "\n",
    "\n"
   ]
  },
  {
   "cell_type": "code",
   "execution_count": 136,
   "metadata": {},
   "outputs": [],
   "source": [
    "model = ANN_train(X, y, (4))"
   ]
  },
  {
   "cell_type": "code",
   "execution_count": 137,
   "metadata": {},
   "outputs": [],
   "source": [
    "def data_ANN_test(past_vals):\n",
    "    loss_series_test = data_extraction.get_timeseries(\"test\", nRowsRead, 'loss', grid_number)\n",
    "    loss_series_train = data_extraction.get_timeseries(\"train\", nRowsRead, 'loss', grid_number)\n",
    "    load_series = data_extraction.get_timeseries(\"test\", nRowsRead, 'load', grid_number)\n",
    "        \n",
    "    loss_series = loss_series_train[:-past_vals].append(loss_series_test)\n",
    "    \n",
    "    X = []\n",
    "    \n",
    "    for i in range(len(loss_series_test)):\n",
    "        if i%24 == 0:\n",
    "            X_el = loss_series[i:i+past_vals]\n",
    "        \n",
    "        #print(i)\n",
    "        \n",
    "        t = datetime.strptime(loss_series.index[i], \"%Y-%m-%d %H:%M:%S\")\n",
    "\n",
    "        X_el_additional = []\n",
    "        X_el_additional.append(t.hour)\n",
    "        X_el_additional.append(t.month)\n",
    "\n",
    "        # add the load of the predicted value\n",
    "        X_el_additional.append(load_series[i])\n",
    "        \n",
    "        X_el_additional = pd.Series(X_el_additional, name = X_el.name)\n",
    "\n",
    "        df = pd.DataFrame(X_el.append(X_el_additional, ignore_index = True))\n",
    "        nd = df.values\n",
    "\n",
    "        nd_new = np.ndarray(shape=len(df.values))\n",
    "\n",
    "\n",
    "        for j in range(len(nd)):\n",
    "            nd_new[j] = nd[j,0]\n",
    "\n",
    "\n",
    "        X.append(nd_new)\n",
    "        X_el = X_el[1:]\n",
    "    \n",
    "    \n",
    "    return X\n",
    "    "
   ]
  },
  {
   "cell_type": "code",
   "execution_count": 145,
   "metadata": {},
   "outputs": [],
   "source": [
    "X_test = data_ANN_test(past_vals)"
   ]
  },
  {
   "cell_type": "code",
   "execution_count": 146,
   "metadata": {},
   "outputs": [
    {
     "name": "stdout",
     "output_type": "stream",
     "text": [
      "4300\n",
      "4300\n"
     ]
    }
   ],
   "source": [
    "print(len(X_test))\n",
    "print(len(data_extraction.get_timeseries(\"test\", nRowsRead, 'loss', grid_number)))"
   ]
  },
  {
   "cell_type": "code",
   "execution_count": 147,
   "metadata": {},
   "outputs": [],
   "source": [
    "def ANN_pred(model, X_test):\n",
    "    X_test = X_test.copy()\n",
    "    y_test = []\n",
    "    for i in range(len(X_test)):\n",
    "        X_test_el = X_test[i]\n",
    "        X_test_losses = X_test_el[:-3]\n",
    "\n",
    "        \n",
    "        for j in range(i%24):\n",
    "            y_test_el = np.ndarray(shape=1)\n",
    "            v = y_test[- (i%24 - j)]\n",
    "            y_test_el[0] = v\n",
    "            X_test_losses = np.append(X_test_losses, y_test_el)\n",
    "\n",
    "        X_test[i] = np.append(X_test_losses, X_test_el[-3:])\n",
    "        \n",
    "        \n",
    "        val = model.predict([X_test[i]])\n",
    "\n",
    "        y_test.append(val[0])\n",
    "    return y_test\n",
    "\n"
   ]
  },
  {
   "cell_type": "code",
   "execution_count": 148,
   "metadata": {},
   "outputs": [
    {
     "data": {
      "text/plain": [
       "4300"
      ]
     },
     "execution_count": 148,
     "metadata": {},
     "output_type": "execute_result"
    }
   ],
   "source": [
    "len(X_test)"
   ]
  },
  {
   "cell_type": "code",
   "execution_count": 150,
   "metadata": {},
   "outputs": [],
   "source": [
    "y_pred = ANN_pred(model, X_test)\n"
   ]
  },
  {
   "cell_type": "code",
   "execution_count": 105,
   "metadata": {},
   "outputs": [
    {
     "data": {
      "text/plain": [
       "4300"
      ]
     },
     "execution_count": 105,
     "metadata": {},
     "output_type": "execute_result"
    }
   ],
   "source": [
    "len(y_pred)"
   ]
  },
  {
   "cell_type": "code",
   "execution_count": 118,
   "metadata": {},
   "outputs": [],
   "source": [
    "loss_series_test = data_extraction.get_timeseries(\"test\", nRowsRead, 'loss', grid_number)"
   ]
  },
  {
   "cell_type": "code",
   "execution_count": 119,
   "metadata": {},
   "outputs": [
    {
     "data": {
      "text/plain": [
       "4300"
      ]
     },
     "execution_count": 119,
     "metadata": {},
     "output_type": "execute_result"
    }
   ],
   "source": [
    "len(loss_series_test)"
   ]
  },
  {
   "cell_type": "code",
   "execution_count": 120,
   "metadata": {},
   "outputs": [],
   "source": [
    "df = pd.DataFrame(index=loss_series_test.index)"
   ]
  },
  {
   "cell_type": "code",
   "execution_count": 128,
   "metadata": {},
   "outputs": [],
   "source": [
    "df[\"Pred\"] = y_pred\n",
    "df[\"Actual\"] = loss_series_test.values\n",
    "df[\"diff\"] = df[\"Actual\"]-df[\"Pred\"]"
   ]
  },
  {
   "cell_type": "code",
   "execution_count": 129,
   "metadata": {},
   "outputs": [
    {
     "data": {
      "text/plain": [
       "<matplotlib.axes._subplots.AxesSubplot at 0x7f8e9d15eb50>"
      ]
     },
     "execution_count": 129,
     "metadata": {},
     "output_type": "execute_result"
    },
    {
     "data": {
      "image/png": "[encoded data removed]",
      "text/plain": [
       "<Figure size 432x288 with 1 Axes>"
      ]
     },
     "metadata": {
      "needs_background": "light"
     },
     "output_type": "display_data"
    }
   ],
   "source": [
    "df[\"diff\"].plot()"
   ]
  },
  {
   "cell_type": "code",
   "execution_count": null,
   "metadata": {},
   "outputs": [],
   "source": []
  }
 ],
 "metadata": {
  "kernelspec": {
   "display_name": "Python 3",
   "language": "python",
   "name": "python3"
  },
  "language_info": {
   "codemirror_mode": {
    "name": "ipython",
    "version": 3
   },
   "file_extension": ".py",
   "mimetype": "text/x-python",
   "name": "python",
   "nbconvert_exporter": "python",
   "pygments_lexer": "ipython3",
   "version": "3.8.3"
  }
 },
 "nbformat": 4,
 "nbformat_minor": 4
}
