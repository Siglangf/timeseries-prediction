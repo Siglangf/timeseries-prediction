{
 "cells": [
  {
   "cell_type": "code",
   "execution_count": 1,
   "metadata": {},
   "outputs": [],
   "source": [
    "from sklearn.neural_network import MLPRegressor\n",
    "from sklearn.model_selection import GridSearchCV\n",
    "import numpy as np\n",
    "import pandas as pd\n",
    "import data_extraction\n",
    "import ARIMA\n",
    "from datetime import datetime\n",
    "import matplotlib.pyplot as plt"
   ]
  },
  {
   "cell_type": "code",
   "execution_count": 2,
   "metadata": {},
   "outputs": [],
   "source": [
    "def ANN_train(X_train, y_train, hidden_layers, alpha=1e-5, random_state=1):\n",
    "    '''\n",
    "    INPUT:\n",
    "    timeseries: TYPE: DataFrame. Contains column named 'residual'\n",
    "    q: TYPE: Integer. Decides how many historical values to consider\n",
    "    hidden_layers: TYPE: Tuple of integers. The number on the i'th position decides number of nodes in hidden layer i\n",
    "\n",
    "    OUTPUT:\n",
    "    Returns trained model: TYPE: MLPRegressor\n",
    "    '''\n",
    "    model = MLPRegressor(solver=\"adam\", \n",
    "                         alpha=alpha, \n",
    "                         hidden_layer_sizes=hidden_layers, \n",
    "                         random_state=random_state, \n",
    "                         max_iter=20000,\n",
    "                         tol=1e-4) #default tolerance\n",
    "    model.fit(X_train, y_train)\n",
    "    return model"
   ]
  },
  {
   "cell_type": "code",
   "execution_count": 9,
   "metadata": {},
   "outputs": [],
   "source": [
    "past_days = 40\n",
    "nRowsRead = None\n",
    "grid_number = 1\n",
    "hidden_layers = (20,10)"
   ]
  },
  {
   "cell_type": "code",
   "execution_count": 4,
   "metadata": {},
   "outputs": [
    {
     "data": {
      "text/html": [
       "<div>\n",
       "<style scoped>\n",
       "    .dataframe tbody tr th:only-of-type {\n",
       "        vertical-align: middle;\n",
       "    }\n",
       "\n",
       "    .dataframe tbody tr th {\n",
       "        vertical-align: top;\n",
       "    }\n",
       "\n",
       "    .dataframe thead th {\n",
       "        text-align: right;\n",
       "    }\n",
       "</style>\n",
       "<table border=\"1\" class=\"dataframe\">\n",
       "  <thead>\n",
       "    <tr style=\"text-align: right;\">\n",
       "      <th></th>\n",
       "      <th>grid1-loss</th>\n",
       "      <th>load</th>\n",
       "    </tr>\n",
       "  </thead>\n",
       "  <tbody>\n",
       "    <tr>\n",
       "      <th>2019-12-01 00:00:00</th>\n",
       "      <td>21.55210</td>\n",
       "      <td>407.67600</td>\n",
       "    </tr>\n",
       "    <tr>\n",
       "      <th>2019-12-01 01:00:00</th>\n",
       "      <td>20.71190</td>\n",
       "      <td>397.96600</td>\n",
       "    </tr>\n",
       "    <tr>\n",
       "      <th>2019-12-01 02:00:00</th>\n",
       "      <td>20.27340</td>\n",
       "      <td>392.90400</td>\n",
       "    </tr>\n",
       "    <tr>\n",
       "      <th>2019-12-01 03:00:00</th>\n",
       "      <td>20.25370</td>\n",
       "      <td>392.72600</td>\n",
       "    </tr>\n",
       "    <tr>\n",
       "      <th>2019-12-01 04:00:00</th>\n",
       "      <td>20.40550</td>\n",
       "      <td>394.47800</td>\n",
       "    </tr>\n",
       "    <tr>\n",
       "      <th>...</th>\n",
       "      <td>...</td>\n",
       "      <td>...</td>\n",
       "    </tr>\n",
       "    <tr>\n",
       "      <th>2020-05-30 19:00:00</th>\n",
       "      <td>8.55980</td>\n",
       "      <td>228.64142</td>\n",
       "    </tr>\n",
       "    <tr>\n",
       "      <th>2020-05-30 20:00:00</th>\n",
       "      <td>6.95209</td>\n",
       "      <td>224.54790</td>\n",
       "    </tr>\n",
       "    <tr>\n",
       "      <th>2020-05-30 21:00:00</th>\n",
       "      <td>8.11558</td>\n",
       "      <td>223.84220</td>\n",
       "    </tr>\n",
       "    <tr>\n",
       "      <th>2020-05-30 23:00:00</th>\n",
       "      <td>7.26431</td>\n",
       "      <td>208.35270</td>\n",
       "    </tr>\n",
       "    <tr>\n",
       "      <th>2020-05-31 00:00:00</th>\n",
       "      <td>6.78796</td>\n",
       "      <td>199.86566</td>\n",
       "    </tr>\n",
       "  </tbody>\n",
       "</table>\n",
       "<p>8670 rows × 2 columns</p>\n",
       "</div>"
      ],
      "text/plain": [
       "                     grid1-loss       load\n",
       "2019-12-01 00:00:00    21.55210  407.67600\n",
       "2019-12-01 01:00:00    20.71190  397.96600\n",
       "2019-12-01 02:00:00    20.27340  392.90400\n",
       "2019-12-01 03:00:00    20.25370  392.72600\n",
       "2019-12-01 04:00:00    20.40550  394.47800\n",
       "...                         ...        ...\n",
       "2020-05-30 19:00:00     8.55980  228.64142\n",
       "2020-05-30 20:00:00     6.95209  224.54790\n",
       "2020-05-30 21:00:00     8.11558  223.84220\n",
       "2020-05-30 23:00:00     7.26431  208.35270\n",
       "2020-05-31 00:00:00     6.78796  199.86566\n",
       "\n",
       "[8670 rows x 2 columns]"
      ]
     },
     "execution_count": 4,
     "metadata": {},
     "output_type": "execute_result"
    }
   ],
   "source": [
    "loss_train_series = data_extraction.get_timeseries(\"train\", nRowsRead, 'loss', grid_number)\n",
    "loss_test_series = data_extraction.get_timeseries(\"test\", nRowsRead, 'loss', grid_number)\n",
    "\n",
    "load_train_series = data_extraction.get_timeseries(\"train\", nRowsRead, 'load', grid_number)\n",
    "load_test_series = data_extraction.get_timeseries(\"test\", nRowsRead, 'load', grid_number)\n",
    "\n",
    "\n",
    "df = loss_test_series.append(loss_test_series).to_frame()\n",
    "df['load'] = load_train_series.append(load_test_series).to_frame()\n",
    "\n",
    "df\n"
   ]
  },
  {
   "cell_type": "code",
   "execution_count": 5,
   "metadata": {},
   "outputs": [
    {
     "data": {
      "text/html": [
       "<div>\n",
       "<style scoped>\n",
       "    .dataframe tbody tr th:only-of-type {\n",
       "        vertical-align: middle;\n",
       "    }\n",
       "\n",
       "    .dataframe tbody tr th {\n",
       "        vertical-align: top;\n",
       "    }\n",
       "\n",
       "    .dataframe thead th {\n",
       "        text-align: right;\n",
       "    }\n",
       "</style>\n",
       "<table border=\"1\" class=\"dataframe\">\n",
       "  <thead>\n",
       "    <tr style=\"text-align: right;\">\n",
       "      <th></th>\n",
       "      <th>grid1-loss</th>\n",
       "      <th>load</th>\n",
       "      <th>hours</th>\n",
       "      <th>months</th>\n",
       "    </tr>\n",
       "  </thead>\n",
       "  <tbody>\n",
       "    <tr>\n",
       "      <th>2019-12-01 00:00:00</th>\n",
       "      <td>21.55210</td>\n",
       "      <td>407.67600</td>\n",
       "      <td>0</td>\n",
       "      <td>4</td>\n",
       "    </tr>\n",
       "    <tr>\n",
       "      <th>2019-12-01 01:00:00</th>\n",
       "      <td>20.71190</td>\n",
       "      <td>397.96600</td>\n",
       "      <td>1</td>\n",
       "      <td>4</td>\n",
       "    </tr>\n",
       "    <tr>\n",
       "      <th>2019-12-01 02:00:00</th>\n",
       "      <td>20.27340</td>\n",
       "      <td>392.90400</td>\n",
       "      <td>2</td>\n",
       "      <td>4</td>\n",
       "    </tr>\n",
       "    <tr>\n",
       "      <th>2019-12-01 03:00:00</th>\n",
       "      <td>20.25370</td>\n",
       "      <td>392.72600</td>\n",
       "      <td>3</td>\n",
       "      <td>4</td>\n",
       "    </tr>\n",
       "    <tr>\n",
       "      <th>2019-12-01 04:00:00</th>\n",
       "      <td>20.40550</td>\n",
       "      <td>394.47800</td>\n",
       "      <td>4</td>\n",
       "      <td>4</td>\n",
       "    </tr>\n",
       "    <tr>\n",
       "      <th>...</th>\n",
       "      <td>...</td>\n",
       "      <td>...</td>\n",
       "      <td>...</td>\n",
       "      <td>...</td>\n",
       "    </tr>\n",
       "    <tr>\n",
       "      <th>2020-05-30 19:00:00</th>\n",
       "      <td>8.55980</td>\n",
       "      <td>228.64142</td>\n",
       "      <td>19</td>\n",
       "      <td>1</td>\n",
       "    </tr>\n",
       "    <tr>\n",
       "      <th>2020-05-30 20:00:00</th>\n",
       "      <td>6.95209</td>\n",
       "      <td>224.54790</td>\n",
       "      <td>20</td>\n",
       "      <td>1</td>\n",
       "    </tr>\n",
       "    <tr>\n",
       "      <th>2020-05-30 21:00:00</th>\n",
       "      <td>8.11558</td>\n",
       "      <td>223.84220</td>\n",
       "      <td>21</td>\n",
       "      <td>1</td>\n",
       "    </tr>\n",
       "    <tr>\n",
       "      <th>2020-05-30 23:00:00</th>\n",
       "      <td>7.26431</td>\n",
       "      <td>208.35270</td>\n",
       "      <td>23</td>\n",
       "      <td>1</td>\n",
       "    </tr>\n",
       "    <tr>\n",
       "      <th>2020-05-31 00:00:00</th>\n",
       "      <td>6.78796</td>\n",
       "      <td>199.86566</td>\n",
       "      <td>0</td>\n",
       "      <td>1</td>\n",
       "    </tr>\n",
       "  </tbody>\n",
       "</table>\n",
       "<p>8670 rows × 4 columns</p>\n",
       "</div>"
      ],
      "text/plain": [
       "                     grid1-loss       load  hours  months\n",
       "2019-12-01 00:00:00    21.55210  407.67600      0       4\n",
       "2019-12-01 01:00:00    20.71190  397.96600      1       4\n",
       "2019-12-01 02:00:00    20.27340  392.90400      2       4\n",
       "2019-12-01 03:00:00    20.25370  392.72600      3       4\n",
       "2019-12-01 04:00:00    20.40550  394.47800      4       4\n",
       "...                         ...        ...    ...     ...\n",
       "2020-05-30 19:00:00     8.55980  228.64142     19       1\n",
       "2020-05-30 20:00:00     6.95209  224.54790     20       1\n",
       "2020-05-30 21:00:00     8.11558  223.84220     21       1\n",
       "2020-05-30 23:00:00     7.26431  208.35270     23       1\n",
       "2020-05-31 00:00:00     6.78796  199.86566      0       1\n",
       "\n",
       "[8670 rows x 4 columns]"
      ]
     },
     "execution_count": 5,
     "metadata": {},
     "output_type": "execute_result"
    }
   ],
   "source": [
    "# legge til time og måned\n",
    "indices = df.index\n",
    "hours = [0 for i in range(len(indices))]\n",
    "months = [0 for i in range(len(indices))]\n",
    "for i in range(len(indices)):\n",
    "    hours[i] = datetime.strptime(indices[i], \"%Y-%m-%d %H:%M:%S\").hour\n",
    "    months[i] = datetime.strptime(indices[i], \"%Y-%m-%d %H:%M:%S\").month //3\n",
    "\n",
    "df['hours'] = hours\n",
    "df['months'] = months\n",
    "\n",
    "df"
   ]
  },
  {
   "cell_type": "code",
   "execution_count": 6,
   "metadata": {},
   "outputs": [],
   "source": [
    "from scipy.signal import argrelextrema\n",
    "gridloss_corr_gridloss_shifted = []\n",
    "for i in range(24*7*24):\n",
    "    df['grid1-loss_shifted'] = df['grid1-loss'].shift(i)\n",
    "    gridloss_corr_gridloss_shifted.append(df.corr(method='pearson')['grid1-loss_shifted']['grid1-loss'])\n",
    "\n",
    "correlation = pd.DataFrame(index = [i for i in range(24*7*24)])"
   ]
  },
  {
   "cell_type": "code",
   "execution_count": 7,
   "metadata": {},
   "outputs": [],
   "source": [
    "\n",
    "gridloss_corr_load_shifted = []\n",
    "for i in range(24*7*24):\n",
    "    df['load_shifted'] = df['load'].shift(i)\n",
    "    gridloss_corr_load_shifted.append(df.corr(method='pearson')['load_shifted']['grid1-loss'])\n"
   ]
  },
  {
   "cell_type": "code",
   "execution_count": 8,
   "metadata": {},
   "outputs": [
    {
     "name": "stdout",
     "output_type": "stream",
     "text": [
      "Grid loss correlation to hour of the day: 0.21495248868959016\n",
      "Grid loss correlation to month of the year: 0.07538364865159035\n"
     ]
    }
   ],
   "source": [
    "print(\"Grid loss correlation to hour of the day:\", df.corr(method='pearson')['grid1-loss']['hours'])\n",
    "print(\"Grid loss correlation to month of the year:\", df.corr(method='pearson')['grid1-loss']['months'])"
   ]
  },
  {
   "cell_type": "code",
   "execution_count": 9,
   "metadata": {},
   "outputs": [],
   "source": [
    "correlation['corrs_loss'] = gridloss_corr_gridloss_shifted\n",
    "correlation['corrs_load'] = gridloss_corr_load_shifted"
   ]
  },
  {
   "cell_type": "code",
   "execution_count": 10,
   "metadata": {},
   "outputs": [
    {
     "data": {
      "text/plain": [
       "<matplotlib.axes._subplots.AxesSubplot at 0x7fc05b809730>"
      ]
     },
     "execution_count": 10,
     "metadata": {},
     "output_type": "execute_result"
    },
    {
     "data": {
      "image/png": "[encoded data removed]",
      "text/plain": [
       "<Figure size 432x288 with 1 Axes>"
      ]
     },
     "metadata": {
      "needs_background": "light"
     },
     "output_type": "display_data"
    }
   ],
   "source": [
    "correlation.iloc[230:250].plot()"
   ]
  },
  {
   "cell_type": "code",
   "execution_count": 7,
   "metadata": {},
   "outputs": [],
   "source": [
    "def data_ANN(past_days):\n",
    "    # input values\n",
    "    # past_days is the number of past days of the grid_loss that the ANN will use\n",
    "    loss_train_series = data_extraction.get_timeseries(\"train\", nRowsRead, 'loss', grid_number)\n",
    "    loss_test_series = data_extraction.get_timeseries(\"test\", nRowsRead, 'loss', grid_number)\n",
    "    load_train_series = data_extraction.get_timeseries(\"train\", nRowsRead, 'load', grid_number)\n",
    "    load_test_series = data_extraction.get_timeseries(\"test\", nRowsRead, 'load', grid_number)\n",
    "    \n",
    "    loss_series = loss_train_series.append(loss_test_series)\n",
    "    load_series = load_train_series.append(load_test_series)\n",
    "    \n",
    "    X = []\n",
    "    y = []\n",
    "    \n",
    "    \n",
    "    for i in range(len(loss_series) - past_days*24):\n",
    "        X.append(loss_series[i:i+past_days*24:24].values + load_series[i:i+past_days*24:24].values)\n",
    "        y.append(loss_series[i + past_days*24])\n",
    "    \n",
    "    return X, y\n"
   ]
  },
  {
   "cell_type": "code",
   "execution_count": 10,
   "metadata": {},
   "outputs": [],
   "source": [
    "X,y = data_ANN(past_days)"
   ]
  },
  {
   "cell_type": "code",
   "execution_count": 13,
   "metadata": {},
   "outputs": [],
   "source": [
    "train_size = len(data_extraction.get_timeseries(\"train\", nRowsRead, 'loss', grid_number)) - past_days*24\n",
    "X_train = X[:train_size]\n",
    "y_train = y[:train_size]\n",
    "\n",
    "X_test = X[train_size:]\n",
    "y_test = y[train_size:]"
   ]
  },
  {
   "cell_type": "code",
   "execution_count": 12,
   "metadata": {},
   "outputs": [
    {
     "ename": "NameError",
     "evalue": "name 'ANN_train' is not defined",
     "output_type": "error",
     "traceback": [
      "\u001b[0;31m---------------------------------------------------------------------------\u001b[0m",
      "\u001b[0;31mNameError\u001b[0m                                 Traceback (most recent call last)",
      "\u001b[0;32m<ipython-input-12-8f296293f9b1>\u001b[0m in \u001b[0;36m<module>\u001b[0;34m\u001b[0m\n\u001b[0;32m----> 1\u001b[0;31m \u001b[0mmodel\u001b[0m \u001b[0;34m=\u001b[0m \u001b[0mANN_train\u001b[0m\u001b[0;34m(\u001b[0m\u001b[0mX_train\u001b[0m\u001b[0;34m,\u001b[0m \u001b[0my_train\u001b[0m\u001b[0;34m,\u001b[0m \u001b[0mhidden_layers\u001b[0m\u001b[0;34m)\u001b[0m\u001b[0;34m\u001b[0m\u001b[0;34m\u001b[0m\u001b[0m\n\u001b[0m",
      "\u001b[0;31mNameError\u001b[0m: name 'ANN_train' is not defined"
     ]
    }
   ],
   "source": [
    "model = ANN_train(X_train, y_train, hidden_layers)"
   ]
  },
  {
   "cell_type": "code",
   "execution_count": 15,
   "metadata": {},
   "outputs": [],
   "source": [
    "def ANN_pred(model, X_test):\n",
    "    X_test = X_test.copy()\n",
    "    y_test = []\n",
    "    for X_test_el in X_test:\n",
    "        val = model.predict(X_test_el.reshape(1,-1))\n",
    "\n",
    "        y_test.append(val[0])\n",
    "    return y_test\n",
    "\n"
   ]
  },
  {
   "cell_type": "code",
   "execution_count": 16,
   "metadata": {},
   "outputs": [],
   "source": [
    "y_pred = ANN_pred(model, X_test)"
   ]
  },
  {
   "cell_type": "code",
   "execution_count": 17,
   "metadata": {},
   "outputs": [
    {
     "data": {
      "text/html": [
       "<div>\n",
       "<style scoped>\n",
       "    .dataframe tbody tr th:only-of-type {\n",
       "        vertical-align: middle;\n",
       "    }\n",
       "\n",
       "    .dataframe tbody tr th {\n",
       "        vertical-align: top;\n",
       "    }\n",
       "\n",
       "    .dataframe thead th {\n",
       "        text-align: right;\n",
       "    }\n",
       "</style>\n",
       "<table border=\"1\" class=\"dataframe\">\n",
       "  <thead>\n",
       "    <tr style=\"text-align: right;\">\n",
       "      <th></th>\n",
       "      <th>grid1-loss</th>\n",
       "    </tr>\n",
       "  </thead>\n",
       "  <tbody>\n",
       "    <tr>\n",
       "      <th>2019-12-01 00:00:00</th>\n",
       "      <td>21.55210</td>\n",
       "    </tr>\n",
       "    <tr>\n",
       "      <th>2019-12-01 01:00:00</th>\n",
       "      <td>20.71190</td>\n",
       "    </tr>\n",
       "    <tr>\n",
       "      <th>2019-12-01 02:00:00</th>\n",
       "      <td>20.27340</td>\n",
       "    </tr>\n",
       "    <tr>\n",
       "      <th>2019-12-01 03:00:00</th>\n",
       "      <td>20.25370</td>\n",
       "    </tr>\n",
       "    <tr>\n",
       "      <th>2019-12-01 04:00:00</th>\n",
       "      <td>20.40550</td>\n",
       "    </tr>\n",
       "    <tr>\n",
       "      <th>...</th>\n",
       "      <td>...</td>\n",
       "    </tr>\n",
       "    <tr>\n",
       "      <th>2020-05-30 19:00:00</th>\n",
       "      <td>8.55980</td>\n",
       "    </tr>\n",
       "    <tr>\n",
       "      <th>2020-05-30 20:00:00</th>\n",
       "      <td>6.95209</td>\n",
       "    </tr>\n",
       "    <tr>\n",
       "      <th>2020-05-30 21:00:00</th>\n",
       "      <td>8.11558</td>\n",
       "    </tr>\n",
       "    <tr>\n",
       "      <th>2020-05-30 23:00:00</th>\n",
       "      <td>7.26431</td>\n",
       "    </tr>\n",
       "    <tr>\n",
       "      <th>2020-05-31 00:00:00</th>\n",
       "      <td>6.78796</td>\n",
       "    </tr>\n",
       "  </tbody>\n",
       "</table>\n",
       "<p>4335 rows × 1 columns</p>\n",
       "</div>"
      ],
      "text/plain": [
       "                     grid1-loss\n",
       "2019-12-01 00:00:00    21.55210\n",
       "2019-12-01 01:00:00    20.71190\n",
       "2019-12-01 02:00:00    20.27340\n",
       "2019-12-01 03:00:00    20.25370\n",
       "2019-12-01 04:00:00    20.40550\n",
       "...                         ...\n",
       "2020-05-30 19:00:00     8.55980\n",
       "2020-05-30 20:00:00     6.95209\n",
       "2020-05-30 21:00:00     8.11558\n",
       "2020-05-30 23:00:00     7.26431\n",
       "2020-05-31 00:00:00     6.78796\n",
       "\n",
       "[4335 rows x 1 columns]"
      ]
     },
     "execution_count": 17,
     "metadata": {},
     "output_type": "execute_result"
    }
   ],
   "source": [
    "new_df = data_extraction.get_timeseries(\"test\", nRowsRead, 'loss', grid_number).to_frame()\n",
    "\n",
    "new_df"
   ]
  },
  {
   "cell_type": "code",
   "execution_count": 18,
   "metadata": {},
   "outputs": [],
   "source": [
    "new_df[\"pred\"] = y_pred\n",
    "new_df[\"diff\"] = new_df[\"grid1-loss\"]-new_df[\"pred\"]"
   ]
  },
  {
   "cell_type": "code",
   "execution_count": 19,
   "metadata": {},
   "outputs": [
    {
     "data": {
      "text/plain": [
       "<matplotlib.axes._subplots.AxesSubplot at 0x7fc05d6d3190>"
      ]
     },
     "execution_count": 19,
     "metadata": {},
     "output_type": "execute_result"
    },
    {
     "data": {
      "image/png": "[encoded data removed]",
      "text/plain": [
       "<Figure size 432x288 with 1 Axes>"
      ]
     },
     "metadata": {
      "needs_background": "light"
     },
     "output_type": "display_data"
    }
   ],
   "source": [
    "new_df[\"diff\"].plot()"
   ]
  },
  {
   "cell_type": "code",
   "execution_count": 20,
   "metadata": {},
   "outputs": [
    {
     "data": {
      "text/plain": [
       "22556.40085557993"
      ]
     },
     "execution_count": 20,
     "metadata": {},
     "output_type": "execute_result"
    }
   ],
   "source": [
    "new_df['ann_sum_error'] = abs(new_df['grid1-loss'] - new_df['pred'])\n",
    "new_df['ann_cumsum'] = new_df['ann_sum_error'].cumsum()\n",
    "new_df['ann_cumsum'][-1]"
   ]
  },
  {
   "cell_type": "code",
   "execution_count": 21,
   "metadata": {},
   "outputs": [
    {
     "data": {
      "text/plain": [
       "<matplotlib.axes._subplots.AxesSubplot at 0x7fc0563c4850>"
      ]
     },
     "execution_count": 21,
     "metadata": {},
     "output_type": "execute_result"
    },
    {
     "data": {
      "image/png": "[encoded data removed]",
      "text/plain": [
       "<Figure size 432x288 with 1 Axes>"
      ]
     },
     "metadata": {
      "needs_background": "light"
     },
     "output_type": "display_data"
    }
   ],
   "source": [
    "new_df['ann_cumsum'].plot()"
   ]
  },
  {
   "cell_type": "code",
   "execution_count": 22,
   "metadata": {},
   "outputs": [],
   "source": [
    "new_df.to_pickle('ANN_forecast.pkl')"
   ]
  },
  {
   "cell_type": "code",
   "execution_count": null,
   "metadata": {},
   "outputs": [],
   "source": []
  },
  {
   "cell_type": "code",
   "execution_count": 2,
   "metadata": {},
   "outputs": [],
   "source": [
    "model = MLPRegressor(solver=\"adam\", \n",
    "                         alpha=1e-5, \n",
    "                         random_state=1, \n",
    "                         max_iter=20000,\n",
    "                         tol=1e-4)"
   ]
  },
  {
   "cell_type": "code",
   "execution_count": 3,
   "metadata": {},
   "outputs": [
    {
     "data": {
      "text/plain": [
       "dict_keys(['activation', 'alpha', 'batch_size', 'beta_1', 'beta_2', 'early_stopping', 'epsilon', 'hidden_layer_sizes', 'learning_rate', 'learning_rate_init', 'max_fun', 'max_iter', 'momentum', 'n_iter_no_change', 'nesterovs_momentum', 'power_t', 'random_state', 'shuffle', 'solver', 'tol', 'validation_fraction', 'verbose', 'warm_start'])"
      ]
     },
     "execution_count": 3,
     "metadata": {},
     "output_type": "execute_result"
    }
   ],
   "source": [
    "model.get_params().keys()"
   ]
  },
  {
   "cell_type": "code",
   "execution_count": 4,
   "metadata": {},
   "outputs": [],
   "source": [
    "parameters = {'solver': ['adam'], 'hidden_layer_sizes' : [(i,i) for i in range(2,5,2)]}"
   ]
  },
  {
   "cell_type": "code",
   "execution_count": 5,
   "metadata": {},
   "outputs": [],
   "source": [
    "gsCV = GridSearchCV(model , parameters)"
   ]
  },
  {
   "cell_type": "code",
   "execution_count": 14,
   "metadata": {},
   "outputs": [
    {
     "data": {
      "text/plain": [
       "GridSearchCV(estimator=MLPRegressor(alpha=1e-05, max_iter=20000,\n",
       "                                    random_state=1),\n",
       "             param_grid={'hidden_layer_sizes': [(2, 2), (4, 4)],\n",
       "                         'solver': ['adam']})"
      ]
     },
     "execution_count": 14,
     "metadata": {},
     "output_type": "execute_result"
    }
   ],
   "source": [
    "gsCV.fit(X_train, y_train)"
   ]
  },
  {
   "cell_type": "code",
   "execution_count": 16,
   "metadata": {},
   "outputs": [
    {
     "data": {
      "text/plain": [
       "['mean_fit_time',\n",
       " 'mean_score_time',\n",
       " 'mean_test_score',\n",
       " 'param_hidden_layer_sizes',\n",
       " 'param_solver',\n",
       " 'params',\n",
       " 'rank_test_score',\n",
       " 'split0_test_score',\n",
       " 'split1_test_score',\n",
       " 'split2_test_score',\n",
       " 'split3_test_score',\n",
       " 'split4_test_score',\n",
       " 'std_fit_time',\n",
       " 'std_score_time',\n",
       " 'std_test_score']"
      ]
     },
     "execution_count": 16,
     "metadata": {},
     "output_type": "execute_result"
    }
   ],
   "source": [
    "sorted(gsCV.cv_results_.keys())"
   ]
  },
  {
   "cell_type": "code",
   "execution_count": 21,
   "metadata": {},
   "outputs": [
    {
     "data": {
      "text/plain": [
       "{'hidden_layer_sizes': (4, 4), 'solver': 'adam'}"
      ]
     },
     "execution_count": 21,
     "metadata": {},
     "output_type": "execute_result"
    }
   ],
   "source": [
    "gsCV.best_params_"
   ]
  },
  {
   "cell_type": "code",
   "execution_count": null,
   "metadata": {},
   "outputs": [],
   "source": []
  }
 ],
 "metadata": {
  "kernelspec": {
   "display_name": "Python 3",
   "language": "python",
   "name": "python3"
  },
  "language_info": {
   "codemirror_mode": {
    "name": "ipython",
    "version": 3
   },
   "file_extension": ".py",
   "mimetype": "text/x-python",
   "name": "python",
   "nbconvert_exporter": "python",
   "pygments_lexer": "ipython3",
   "version": "3.8.3"
  }
 },
 "nbformat": 4,
 "nbformat_minor": 4
}
