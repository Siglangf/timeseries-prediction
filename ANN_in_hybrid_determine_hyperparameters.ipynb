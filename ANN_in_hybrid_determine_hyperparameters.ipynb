{
 "cells": [
  {
   "cell_type": "code",
   "execution_count": 1,
   "metadata": {},
   "outputs": [],
   "source": [
    "from sklearn.neural_network import MLPRegressor\n",
    "from sklearn.model_selection import GridSearchCV\n",
    "import numpy as np\n",
    "import pandas as pd\n",
    "import data_extraction\n",
    "import ARIMA\n",
    "from datetime import datetime\n",
    "import matplotlib.pyplot as plt\n",
    "from tqdm import tqdm"
   ]
  },
  {
   "cell_type": "code",
   "execution_count": 2,
   "metadata": {},
   "outputs": [],
   "source": [
    "nRowsRead = None\n",
    "grid_number = 1\n",
    "df = pd.read_pickle('forecast1.pkl')"
   ]
  },
  {
   "cell_type": "code",
   "execution_count": 3,
   "metadata": {},
   "outputs": [],
   "source": [
    "def data_ANN(past_weeks, df):\n",
    "    # input values\n",
    "    # past_vals is the number of past values of the residuals that the ANN will use\n",
    "    residuals = df[\"residuals\"]\n",
    "\n",
    "    X = []\n",
    "    y = []\n",
    "    \n",
    "    for i in range(len(residuals.values) - past_weeks*24*7):\n",
    "        X_el = residuals[i:i+24*7*past_weeks:24*7]\n",
    "        X.append(X_el)\n",
    "        y.append([residuals.iloc[i+past_weeks*24*7]])\n",
    "    \n",
    "    return X, y\n"
   ]
  },
  {
   "cell_type": "code",
   "execution_count": null,
   "metadata": {},
   "outputs": [],
   "source": []
  },
  {
   "cell_type": "code",
   "execution_count": 4,
   "metadata": {},
   "outputs": [],
   "source": [
    "def getgsCV(numberOfPastVals):\n",
    "    X, y = data_ANN(numberOfPastVals, df)\n",
    "    \n",
    "    train_size_percentage = 0.50\n",
    "\n",
    "    train_size = int(len(X)*train_size_percentage)\n",
    "\n",
    "    X_train = X[:train_size]\n",
    "    y_train = y[:train_size]\n",
    "\n",
    "    X_test = X[train_size:]\n",
    "    y_test = y[train_size:]\n",
    "    \n",
    "    model = MLPRegressor(solver=\"adam\", \n",
    "                         alpha=1e-5, \n",
    "                         random_state=1, \n",
    "                         max_iter=20000,\n",
    "                         tol=1e-4)\n",
    "    parameters = {'solver': ['adam'], 'hidden_layer_sizes' : [(i) for i in range(1,numberOfPastVals*2,2)] + [(i,i) for i in range(1,round(6/2),2)] + [(i,i,i) for i in range(1,round(7/3),2)]}\n",
    "    gsCV = GridSearchCV(model , parameters)\n",
    "    gsCV.fit(X_train, y_train)\n",
    "    return gsCV"
   ]
  },
  {
   "cell_type": "code",
   "execution_count": 5,
   "metadata": {},
   "outputs": [],
   "source": [
    "gsCVList = []\n",
    "past_vals = [i for i in range(4,5,1)]"
   ]
  },
  {
   "cell_type": "code",
   "execution_count": 6,
   "metadata": {},
   "outputs": [
    {
     "name": "stderr",
     "output_type": "stream",
     "text": [
      "100%|██████████| 1/1 [01:04<00:00, 64.39s/it]\n"
     ]
    }
   ],
   "source": [
    "for val in tqdm(past_vals):\n",
    "    gsCVList.append(getgsCV(val))"
   ]
  },
  {
   "cell_type": "code",
   "execution_count": 56,
   "metadata": {},
   "outputs": [],
   "source": [
    "CVdf = pd.DataFrame(index = past_vals)\n",
    "\n",
    "bestScores = []\n",
    "bestHiddenLayers = []\n",
    "\n",
    "for i in range(len(gsCVList)):\n",
    "    bestScores.append(gsCVList[i].best_score_)\n",
    "    bestHiddenLayers.append(gsCVList[i].best_params_['hidden_layer_sizes'])"
   ]
  },
  {
   "cell_type": "code",
   "execution_count": 59,
   "metadata": {},
   "outputs": [],
   "source": [
    "CVdf['past'] = past_vals\n",
    "CVdf['scores'] = bestScores\n",
    "CVdf['hidden layers'] = bestHiddenLayers"
   ]
  },
  {
   "cell_type": "code",
   "execution_count": 61,
   "metadata": {},
   "outputs": [],
   "source": [
    "CVdf.to_pickle(\"hyper_parameters_hybrid.pkl\")"
   ]
  },
  {
   "cell_type": "code",
   "execution_count": 63,
   "metadata": {},
   "outputs": [
    {
     "data": {
      "text/html": [
       "<div>\n",
       "<style scoped>\n",
       "    .dataframe tbody tr th:only-of-type {\n",
       "        vertical-align: middle;\n",
       "    }\n",
       "\n",
       "    .dataframe tbody tr th {\n",
       "        vertical-align: top;\n",
       "    }\n",
       "\n",
       "    .dataframe thead th {\n",
       "        text-align: right;\n",
       "    }\n",
       "</style>\n",
       "<table border=\"1\" class=\"dataframe\">\n",
       "  <thead>\n",
       "    <tr style=\"text-align: right;\">\n",
       "      <th></th>\n",
       "      <th>scores</th>\n",
       "      <th>past</th>\n",
       "      <th>hidden layers</th>\n",
       "    </tr>\n",
       "  </thead>\n",
       "  <tbody>\n",
       "    <tr>\n",
       "      <th>2</th>\n",
       "      <td>0.263702</td>\n",
       "      <td>2</td>\n",
       "      <td>(4, 4)</td>\n",
       "    </tr>\n",
       "    <tr>\n",
       "      <th>4</th>\n",
       "      <td>0.354967</td>\n",
       "      <td>4</td>\n",
       "      <td>(4, 4)</td>\n",
       "    </tr>\n",
       "  </tbody>\n",
       "</table>\n",
       "</div>"
      ],
      "text/plain": [
       "     scores  past hidden layers\n",
       "2  0.263702     2        (4, 4)\n",
       "4  0.354967     4        (4, 4)"
      ]
     },
     "execution_count": 63,
     "metadata": {},
     "output_type": "execute_result"
    }
   ],
   "source": [
    "pd.read_pickle(\"hyper_parameters_hybrid.pkl\")"
   ]
  },
  {
   "cell_type": "code",
   "execution_count": 12,
   "metadata": {},
   "outputs": [
    {
     "data": {
      "text/plain": [
       "0"
      ]
     },
     "execution_count": 12,
     "metadata": {},
     "output_type": "execute_result"
    }
   ],
   "source": [
    "gsCVList[0].best_index_"
   ]
  },
  {
   "cell_type": "code",
   "execution_count": 11,
   "metadata": {},
   "outputs": [
    {
     "data": {
      "text/plain": [
       "0.3395936743121642"
      ]
     },
     "execution_count": 11,
     "metadata": {},
     "output_type": "execute_result"
    }
   ],
   "source": [
    "gsCVList[0].best_score_"
   ]
  },
  {
   "cell_type": "code",
   "execution_count": 15,
   "metadata": {},
   "outputs": [
    {
     "data": {
      "text/plain": [
       "{'mean_fit_time': array([4.79402804, 1.25299864, 2.15971551, 2.59400439, 0.37395697,\n",
       "        0.39781837]),\n",
       " 'std_fit_time': array([0.54143088, 0.08609949, 0.30166798, 0.48230313, 0.02796609,\n",
       "        0.01631202]),\n",
       " 'mean_score_time': array([0.0170547 , 0.01681538, 0.01592417, 0.01630621, 0.01647539,\n",
       "        0.01612692]),\n",
       " 'std_score_time': array([0.00083852, 0.00096178, 0.00043415, 0.00058275, 0.00088599,\n",
       "        0.00045306]),\n",
       " 'param_hidden_layer_sizes': masked_array(data=[1, 3, 5, 7, (1, 1), (1, 1, 1)],\n",
       "              mask=[False, False, False, False, False, False],\n",
       "        fill_value='?',\n",
       "             dtype=object),\n",
       " 'param_solver': masked_array(data=['adam', 'adam', 'adam', 'adam', 'adam', 'adam'],\n",
       "              mask=[False, False, False, False, False, False],\n",
       "        fill_value='?',\n",
       "             dtype=object),\n",
       " 'params': [{'hidden_layer_sizes': 1, 'solver': 'adam'},\n",
       "  {'hidden_layer_sizes': 3, 'solver': 'adam'},\n",
       "  {'hidden_layer_sizes': 5, 'solver': 'adam'},\n",
       "  {'hidden_layer_sizes': 7, 'solver': 'adam'},\n",
       "  {'hidden_layer_sizes': (1, 1), 'solver': 'adam'},\n",
       "  {'hidden_layer_sizes': (1, 1, 1), 'solver': 'adam'}],\n",
       " 'split0_test_score': array([ 0.23928264,  0.25322519,  0.26743467,  0.29207671, -0.00038764,\n",
       "        -0.00041015]),\n",
       " 'split1_test_score': array([-0.00662483, -0.05121702, -0.05410715, -0.05382169, -0.0005216 ,\n",
       "        -0.00051899]),\n",
       " 'split2_test_score': array([ 0.26606826,  0.26746573,  0.254471  ,  0.21340684, -0.00140952,\n",
       "        -0.00143492]),\n",
       " 'split3_test_score': array([ 6.06174644e-01,  5.82215394e-01,  5.67834727e-01,  5.86457504e-01,\n",
       "        -2.10032824e-05, -1.99955883e-05]),\n",
       " 'split4_test_score': array([ 5.93067656e-01,  5.59198979e-01,  6.03521982e-01,  6.18028872e-01,\n",
       "        -4.21157544e-05, -5.04862754e-05]),\n",
       " 'mean_test_score': array([ 0.33959367,  0.32217765,  0.32783105,  0.33122965, -0.00047638,\n",
       "        -0.00048691]),\n",
       " 'std_test_score': array([0.23265856, 0.23279611, 0.24021385, 0.24942925, 0.00050529,\n",
       "        0.00051266]),\n",
       " 'rank_test_score': array([1, 4, 3, 2, 5, 6], dtype=int32)}"
      ]
     },
     "execution_count": 15,
     "metadata": {},
     "output_type": "execute_result"
    }
   ],
   "source": [
    "gsCVList[0].cv_results_"
   ]
  },
  {
   "cell_type": "code",
   "execution_count": 17,
   "metadata": {},
   "outputs": [
    {
     "data": {
      "text/plain": [
       "{'hidden_layer_sizes': 1, 'solver': 'adam'}"
      ]
     },
     "execution_count": 17,
     "metadata": {},
     "output_type": "execute_result"
    }
   ],
   "source": [
    "gsCVList[0].best_params_"
   ]
  },
  {
   "cell_type": "code",
   "execution_count": null,
   "metadata": {},
   "outputs": [],
   "source": []
  }
 ],
 "metadata": {
  "kernelspec": {
   "display_name": "Python 3",
   "language": "python",
   "name": "python3"
  },
  "language_info": {
   "codemirror_mode": {
    "name": "ipython",
    "version": 3
   },
   "file_extension": ".py",
   "mimetype": "text/x-python",
   "name": "python",
   "nbconvert_exporter": "python",
   "pygments_lexer": "ipython3",
   "version": "3.8.3"
  }
 },
 "nbformat": 4,
 "nbformat_minor": 4
}
