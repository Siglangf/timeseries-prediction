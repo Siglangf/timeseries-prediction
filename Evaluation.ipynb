{
 "cells": [
  {
   "cell_type": "code",
   "execution_count": 35,
   "metadata": {},
   "outputs": [],
   "source": [
    "import pandas as pd\n",
    "import numpy as np\n",
    "ARIMA_forecast = pd.read_pickle('forecast.pkl')"
   ]
  },
  {
   "cell_type": "code",
   "execution_count": 36,
   "metadata": {},
   "outputs": [
    {
     "data": {
      "text/plain": [
       "19.04176484471903"
      ]
     },
     "execution_count": 36,
     "metadata": {},
     "output_type": "execute_result"
    }
   ],
   "source": [
    "############ Evaluation #############\n",
    "\n",
    "def MSE(df, method='ARIMA'):\n",
    "    temp = df.copy()\n",
    "    error = temp['grid-loss']-temp[method]\n",
    "    squared= error**2\n",
    "    mse = squared.mean()\n",
    "    return mse\n",
    "def MAE(df, method='ARIMA'):\n",
    "    temp = df.copy()\n",
    "    error = temp['grid-loss']-temp[method]\n",
    "    absolute = abs(error)\n",
    "    mae = absolute.mean()\n",
    "    return mae\n",
    "\n",
    "def MAPE(df, method='ARIMA'):\n",
    "    temp = df.copy()\n",
    "    mae = MAE(temp, method)\n",
    "    return mae / temp['grid-loss'].mean()\n",
    "\n",
    "MSE(ARIMA_forecast, 'ARIMA')\n",
    "    \n"
   ]
  },
  {
   "cell_type": "code",
   "execution_count": null,
   "metadata": {},
   "outputs": [],
   "source": []
  },
  {
   "cell_type": "code",
   "execution_count": null,
   "metadata": {},
   "outputs": [],
   "source": []
  }
 ],
 "metadata": {
  "kernelspec": {
   "display_name": "Python 3",
   "language": "python",
   "name": "python3"
  },
  "language_info": {
   "codemirror_mode": {
    "name": "ipython",
    "version": 3
   },
   "file_extension": ".py",
   "mimetype": "text/x-python",
   "name": "python",
   "nbconvert_exporter": "python",
   "pygments_lexer": "ipython3",
   "version": "3.8.5"
  }
 },
 "nbformat": 4,
 "nbformat_minor": 4
}
