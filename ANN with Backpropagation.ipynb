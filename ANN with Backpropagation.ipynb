{
 "cells": [
  {
   "cell_type": "code",
   "execution_count": 11,
   "metadata": {},
   "outputs": [],
   "source": [
    "# Import statements that is needed for...\n",
    "\n",
    "# ANN with backpropagation\n",
    "from sklearn.neural_network import MLPClassifier\n",
    "\n"
   ]
  },
  {
   "cell_type": "code",
   "execution_count": 12,
   "metadata": {},
   "outputs": [],
   "source": [
    "# Define the sets for training and forecasting\n",
    "\n",
    "# The training set for the input nodes (n_samples, n_features)\n",
    "X = [[0., 0.], [1., 1.]]\n",
    "# The training set for the results (should be on the format 1xn)\n",
    "y = [0, 1]\n",
    "\n",
    "# The testing set (m_samples, n_features)\n",
    "X_test = [[2., 2.], [-1., -2.]]"
   ]
  },
  {
   "cell_type": "code",
   "execution_count": 44,
   "metadata": {},
   "outputs": [
    {
     "data": {
      "text/plain": [
       "MLPClassifier(alpha=1e-05, hidden_layer_sizes=5, random_state=1, solver='lbfgs')"
      ]
     },
     "execution_count": 44,
     "metadata": {},
     "output_type": "execute_result"
    }
   ],
   "source": [
    "# Define the classifier\n",
    "# solver=\"lbfgs\" stands for \"Limited-memory Broyden–Fletcher–Goldfarb–Shanno\". \n",
    "slv = [\"lbfgs\", \"sgd\", \"adam\"][0]\n",
    "# ‘lbfgs’ is an optimizer in the family of quasi-Newton methods\n",
    "# alpha is L2 penalty (regularization term) parameter.\n",
    "# hidden_layer_sizes is the now categorized with n, and can be extended to more hidden layers by going from (5) \n",
    "# to (5,5) for example.\n",
    "n = (5)\n",
    "# random_state determines the random number generation for the weights and biases\n",
    "\n",
    "# MLP trains using backpropagation. It trains minimizing the cross-entropy loss\n",
    "clf = MLPClassifier(solver=slv, alpha=1e-5, hidden_layer_sizes=n, random_state=1)\n",
    "\n",
    "# train the model (the classifier)\n",
    "clf.fit(X, y)"
   ]
  },
  {
   "cell_type": "code",
   "execution_count": 41,
   "metadata": {},
   "outputs": [
    {
     "data": {
      "text/plain": [
       "array([1, 0])"
      ]
     },
     "execution_count": 41,
     "metadata": {},
     "output_type": "execute_result"
    }
   ],
   "source": [
    "# Now that the model is ready, we can try to predict some sample data\n",
    "clf.predict(X_test)"
   ]
  },
  {
   "cell_type": "code",
   "execution_count": 42,
   "metadata": {},
   "outputs": [
    {
     "data": {
      "text/plain": [
       "[(2, 5), (5, 1)]"
      ]
     },
     "execution_count": 42,
     "metadata": {},
     "output_type": "execute_result"
    }
   ],
   "source": [
    "[coef.shape for coef in clf.coefs_]"
   ]
  },
  {
   "cell_type": "code",
   "execution_count": 36,
   "metadata": {},
   "outputs": [
    {
     "data": {
      "text/plain": [
       "array([[1.20455058e-04, 9.99879545e-01],\n",
       "       [1.00000000e+00, 5.90373916e-57]])"
      ]
     },
     "execution_count": 36,
     "metadata": {},
     "output_type": "execute_result"
    }
   ],
   "source": [
    "# calculate the cross-entropy loss function\n",
    "clf.predict_proba([[2., 2.], [-1., -2.]])"
   ]
  },
  {
   "cell_type": "code",
   "execution_count": null,
   "metadata": {},
   "outputs": [],
   "source": []
  }
 ],
 "metadata": {
  "kernelspec": {
   "display_name": "Python 3",
   "language": "python",
   "name": "python3"
  },
  "language_info": {
   "codemirror_mode": {
    "name": "ipython",
    "version": 3
   },
   "file_extension": ".py",
   "mimetype": "text/x-python",
   "name": "python",
   "nbconvert_exporter": "python",
   "pygments_lexer": "ipython3",
   "version": "3.8.3"
  }
 },
 "nbformat": 4,
 "nbformat_minor": 4
}
